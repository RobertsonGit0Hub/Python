{
  "nbformat": 4,
  "nbformat_minor": 0,
  "metadata": {
    "colab": {
      "provenance": [],
      "name": "Basic Python.ipynb",
      "include_colab_link": true
    },
    "kernelspec": {
      "name": "python3",
      "display_name": "Python 3"
    },
    "language_info": {
      "name": "python"
    }
  },
  "cells": [
    {
      "cell_type": "markdown",
      "metadata": {
        "id": "view-in-github",
        "colab_type": "text"
      },
      "source": [
        "<a href=\"https://colab.research.google.com/github/RobertsonGit0Hub/Python/blob/main/Basic_Python%20-%20Day%204.ipynb\" target=\"_parent\"><img src=\"https://colab.research.google.com/assets/colab-badge.svg\" alt=\"Open In Colab\"/></a>"
      ]
    },
    {
      "cell_type": "code",
      "execution_count": null,
      "metadata": {
        "colab": {
          "base_uri": "https://localhost:8080/"
        },
        "id": "HpmbKqI7jltH",
        "outputId": "0ec1bf68-5f68-4ec7-f746-ea081ec8cab5"
      },
      "outputs": [
        {
          "output_type": "stream",
          "name": "stdout",
          "text": [
            "hello world\n"
          ]
        }
      ],
      "source": [
        "print(\"hello mm\")"
      ]
    },
    {
      "cell_type": "code",
      "source": [
        "# Day 3\n",
        "#creating s simple list\n",
        "l=[10,20.3,\"Ntt\",3+4j]\n",
        "print (l)\n",
        "print(type(l))\n",
        "print (l[-2])\n",
        "\n"
      ],
      "metadata": {
        "colab": {
          "base_uri": "https://localhost:8080/"
        },
        "id": "uJl5DeSfTKZZ",
        "outputId": "8ee6da04-7697-4bbc-b1ba-ec7d4760a4eb"
      },
      "execution_count": null,
      "outputs": [
        {
          "output_type": "stream",
          "name": "stdout",
          "text": [
            "[10, 20.3, 'Ntt', (3+4j)]\n",
            "<class 'list'>\n",
            "Ntt\n"
          ]
        }
      ]
    },
    {
      "cell_type": "code",
      "source": [
        "l={10:\"Arjith\",20:\"Muni\",30:\"Rovbert\"}\n",
        "print (type(l))\n"
      ],
      "metadata": {
        "colab": {
          "base_uri": "https://localhost:8080/"
        },
        "id": "-d8b2_yr5W2g",
        "outputId": "ba9f7abe-64d3-40e9-92a8-4a7d43b04c4c"
      },
      "execution_count": null,
      "outputs": [
        {
          "output_type": "stream",
          "name": "stdout",
          "text": [
            "<class 'dict'>\n"
          ]
        }
      ]
    },
    {
      "cell_type": "code",
      "source": [
        "l={100:\"Arjith\",20:\"Muni\",333:\"Rober\"}\n",
        "print (l[333])"
      ],
      "metadata": {
        "colab": {
          "base_uri": "https://localhost:8080/"
        },
        "id": "raP8IFlJ55lw",
        "outputId": "b399c664-fb6c-4827-d3d7-2d6831e26908"
      },
      "execution_count": null,
      "outputs": [
        {
          "output_type": "stream",
          "name": "stdout",
          "text": [
            "Rober\n"
          ]
        }
      ]
    },
    {
      "cell_type": "code",
      "source": [
        "s = {12,13,14,14,\"Hello\",\"Hello\"}\n",
        "\n",
        "print(s[0])\n"
      ],
      "metadata": {
        "colab": {
          "base_uri": "https://localhost:8080/",
          "height": 176
        },
        "id": "fuCKuvtG6WuI",
        "outputId": "6c234129-2dd8-45a6-ed88-00c996cf7601"
      },
      "execution_count": null,
      "outputs": [
        {
          "output_type": "error",
          "ename": "TypeError",
          "evalue": "'set' object is not subscriptable",
          "traceback": [
            "\u001b[0;31m---------------------------------------------------------------------------\u001b[0m",
            "\u001b[0;31mTypeError\u001b[0m                                 Traceback (most recent call last)",
            "\u001b[0;32m<ipython-input-2-68a7ed448a70>\u001b[0m in \u001b[0;36m<cell line: 0>\u001b[0;34m()\u001b[0m\n\u001b[1;32m      1\u001b[0m \u001b[0ms\u001b[0m \u001b[0;34m=\u001b[0m \u001b[0;34m{\u001b[0m\u001b[0;36m12\u001b[0m\u001b[0;34m,\u001b[0m\u001b[0;36m13\u001b[0m\u001b[0;34m,\u001b[0m\u001b[0;36m14\u001b[0m\u001b[0;34m,\u001b[0m\u001b[0;36m14\u001b[0m\u001b[0;34m,\u001b[0m\u001b[0;34m\"Hello\"\u001b[0m\u001b[0;34m,\u001b[0m\u001b[0;34m\"Hello\"\u001b[0m\u001b[0;34m}\u001b[0m\u001b[0;34m\u001b[0m\u001b[0;34m\u001b[0m\u001b[0m\n\u001b[1;32m      2\u001b[0m \u001b[0;34m\u001b[0m\u001b[0m\n\u001b[0;32m----> 3\u001b[0;31m \u001b[0mprint\u001b[0m\u001b[0;34m(\u001b[0m\u001b[0ms\u001b[0m\u001b[0;34m[\u001b[0m\u001b[0;36m0\u001b[0m\u001b[0;34m]\u001b[0m\u001b[0;34m)\u001b[0m\u001b[0;34m\u001b[0m\u001b[0;34m\u001b[0m\u001b[0m\n\u001b[0m",
            "\u001b[0;31mTypeError\u001b[0m: 'set' object is not subscriptable"
          ]
        }
      ]
    },
    {
      "cell_type": "code",
      "source": [
        "s = {12, 13, 14, 14, \"Hello\", \"Hello\"}\n",
        "\n",
        "for element in s:\n",
        "    print(element)"
      ],
      "metadata": {
        "colab": {
          "base_uri": "https://localhost:8080/"
        },
        "id": "ERyEdD3f7VKC",
        "outputId": "fe91db04-6ed0-4a0c-cbe4-8521e0b5cda0"
      },
      "execution_count": null,
      "outputs": [
        {
          "output_type": "stream",
          "name": "stdout",
          "text": [
            "12\n",
            "13\n",
            "14\n",
            "Hello\n"
          ]
        }
      ]
    },
    {
      "cell_type": "code",
      "source": [
        "s = {12, 13, 14, \"Hello\", \"hello\"}\n",
        "\n",
        "s_list = list(s)\n",
        "print(s_list[4])  # Access the first element of the list"
      ],
      "metadata": {
        "colab": {
          "base_uri": "https://localhost:8080/"
        },
        "id": "zUQxzsWV7Ylz",
        "outputId": "02d4a3ca-a402-403b-af55-b5c84078f588"
      },
      "execution_count": null,
      "outputs": [
        {
          "output_type": "stream",
          "name": "stdout",
          "text": [
            "14\n"
          ]
        }
      ]
    },
    {
      "cell_type": "code",
      "source": [
        "#isinstance\n",
        "a=10\n",
        "print (isinstance(a,int))\n"
      ],
      "metadata": {
        "colab": {
          "base_uri": "https://localhost:8080/"
        },
        "id": "_5wHueRsT9e7",
        "outputId": "3e348658-00e0-466c-8dfe-22913d8e5002"
      },
      "execution_count": null,
      "outputs": [
        {
          "output_type": "stream",
          "name": "stdout",
          "text": [
            "True\n"
          ]
        }
      ]
    },
    {
      "cell_type": "code",
      "source": [
        "#variable annotations\n",
        "name: str = \"NTT\"\n",
        "print(name)\n",
        "print(__annotations__['name'])"
      ],
      "metadata": {
        "colab": {
          "base_uri": "https://localhost:8080/"
        },
        "id": "xQHytdgQUK9_",
        "outputId": "2e12aa6c-6ccf-4ed4-83f9-d18b6723f4f4"
      },
      "execution_count": null,
      "outputs": [
        {
          "output_type": "stream",
          "name": "stdout",
          "text": [
            "NTT\n",
            "<class 'str'>\n"
          ]
        }
      ]
    },
    {
      "cell_type": "code",
      "source": [
        "name: str = \"NTT\"\n",
        "print(name)\n",
        "print(type(name))\n",
        "print(__annotations__['name'])\n"
      ],
      "metadata": {
        "id": "k_9V-vBIUxKK"
      },
      "execution_count": null,
      "outputs": []
    },
    {
      "cell_type": "code",
      "source": [
        "name: int = 10\n",
        "print(name)\n",
        "print(__annotations__['name'])"
      ],
      "metadata": {
        "colab": {
          "base_uri": "https://localhost:8080/"
        },
        "id": "HaaltRd32J1d",
        "outputId": "eb403c4e-bd66-4584-f7fb-13a9555635d3"
      },
      "execution_count": null,
      "outputs": [
        {
          "output_type": "stream",
          "name": "stdout",
          "text": [
            "10\n",
            "<class 'int'>\n"
          ]
        }
      ]
    },
    {
      "cell_type": "code",
      "source": [],
      "metadata": {
        "id": "pNjjTUeXWcwI"
      },
      "execution_count": null,
      "outputs": []
    },
    {
      "cell_type": "code",
      "source": [
        "aaa=10\n",
        "print(aaa)\n",
        "print(type(aaa))\n",
        "\n",
        "print(__annotations__['aaa'])\n"
      ],
      "metadata": {
        "colab": {
          "base_uri": "https://localhost:8080/",
          "height": 211
        },
        "id": "7c6ghR13Vzrp",
        "outputId": "db6853c5-5919-4877-9437-94b06a24acbf"
      },
      "execution_count": null,
      "outputs": [
        {
          "output_type": "stream",
          "name": "stdout",
          "text": [
            "10\n",
            "<class 'int'>\n"
          ]
        },
        {
          "output_type": "error",
          "ename": "NameError",
          "evalue": "name '__annotations__' is not defined",
          "traceback": [
            "\u001b[0;31m---------------------------------------------------------------------------\u001b[0m",
            "\u001b[0;31mNameError\u001b[0m                                 Traceback (most recent call last)",
            "\u001b[0;32m<ipython-input-1-34cce9b43018>\u001b[0m in \u001b[0;36m<cell line: 0>\u001b[0;34m()\u001b[0m\n\u001b[1;32m      3\u001b[0m \u001b[0mprint\u001b[0m\u001b[0;34m(\u001b[0m\u001b[0mtype\u001b[0m\u001b[0;34m(\u001b[0m\u001b[0maaa\u001b[0m\u001b[0;34m)\u001b[0m\u001b[0;34m)\u001b[0m\u001b[0;34m\u001b[0m\u001b[0;34m\u001b[0m\u001b[0m\n\u001b[1;32m      4\u001b[0m \u001b[0;34m\u001b[0m\u001b[0m\n\u001b[0;32m----> 5\u001b[0;31m \u001b[0mprint\u001b[0m\u001b[0;34m(\u001b[0m\u001b[0m__annotations__\u001b[0m\u001b[0;34m[\u001b[0m\u001b[0;34m'aaa'\u001b[0m\u001b[0;34m]\u001b[0m\u001b[0;34m)\u001b[0m\u001b[0;34m\u001b[0m\u001b[0;34m\u001b[0m\u001b[0m\n\u001b[0m",
            "\u001b[0;31mNameError\u001b[0m: name '__annotations__' is not defined"
          ]
        }
      ]
    },
    {
      "cell_type": "code",
      "source": [
        "# variable annotation\n",
        "\n",
        "aa: int = 10\n",
        "print(aa)\n",
        "\n",
        "print(__annotations__['aa'])\n",
        "print(type(aa))\n"
      ],
      "metadata": {
        "colab": {
          "base_uri": "https://localhost:8080/"
        },
        "id": "hlDFRsG0Wev7",
        "outputId": "02dbf3b6-738f-4036-f103-2451d17e8ebb"
      },
      "execution_count": null,
      "outputs": [
        {
          "output_type": "stream",
          "name": "stdout",
          "text": [
            "10\n",
            "<class 'int'>\n",
            "<class 'int'>\n"
          ]
        }
      ]
    },
    {
      "cell_type": "code",
      "source": [
        "#tuple - unable to chnage the content at run time t = (1,2,3..) , but list we can change it L = [1,2,3,4,...]\n"
      ],
      "metadata": {
        "id": "-zs2BtDYYOX0"
      },
      "execution_count": null,
      "outputs": []
    },
    {
      "cell_type": "code",
      "source": [
        "#dictionary  d = {a:1, b:2, c:3} - a, b, c are index and 1 2 3 are value"
      ],
      "metadata": {
        "id": "7eZYgoGnZkGa"
      },
      "execution_count": null,
      "outputs": []
    },
    {
      "cell_type": "code",
      "source": [
        "print(18//4)"
      ],
      "metadata": {
        "colab": {
          "base_uri": "https://localhost:8080/"
        },
        "id": "vVrHlCjgfrpB",
        "outputId": "1ac860a7-85c4-4d22-ab3a-251fd6e195e7"
      },
      "execution_count": null,
      "outputs": [
        {
          "output_type": "stream",
          "name": "stdout",
          "text": [
            "4\n"
          ]
        }
      ]
    },
    {
      "cell_type": "code",
      "source": [
        "print(18%4)"
      ],
      "metadata": {
        "colab": {
          "base_uri": "https://localhost:8080/"
        },
        "id": "ez0Q5SYLfwVB",
        "outputId": "5675b57b-ff1d-431b-e457-c78ba59c486b"
      },
      "execution_count": null,
      "outputs": [
        {
          "output_type": "stream",
          "name": "stdout",
          "text": [
            "2\n"
          ]
        }
      ]
    },
    {
      "cell_type": "code",
      "source": [
        "print((18.0//4))"
      ],
      "metadata": {
        "colab": {
          "base_uri": "https://localhost:8080/"
        },
        "id": "9xQ4YNdEf0WQ",
        "outputId": "c98aceef-7719-4fcf-f8f3-d4570b2b5379"
      },
      "execution_count": null,
      "outputs": [
        {
          "output_type": "stream",
          "name": "stdout",
          "text": [
            "4.0\n"
          ]
        }
      ]
    },
    {
      "cell_type": "code",
      "source": [
        "print(\"\"\"  working on multiline\n",
        "  sample \"\"\")"
      ],
      "metadata": {
        "colab": {
          "base_uri": "https://localhost:8080/"
        },
        "id": "pGTzI4EIf4L5",
        "outputId": "135722f1-0efe-42f4-908b-cb7a85673021"
      },
      "execution_count": null,
      "outputs": [
        {
          "output_type": "stream",
          "name": "stdout",
          "text": [
            "  working on multiline\n",
            "  sample \n"
          ]
        }
      ]
    },
    {
      "cell_type": "code",
      "source": [
        "#1-1 = 0 , 2-1 = 1, 3-1 = 2 (last param)\n",
        "Name = \"Hello world\"\n",
        "print(Name[0])\n",
        "print(Name[-8])\n",
        "\n",
        "print(Name[0:6:3])"
      ],
      "metadata": {
        "colab": {
          "base_uri": "https://localhost:8080/"
        },
        "id": "FCzAbliMg0ld",
        "outputId": "8f789eb1-0008-435b-9acb-573208c75d4d"
      },
      "execution_count": null,
      "outputs": [
        {
          "output_type": "stream",
          "name": "stdout",
          "text": [
            "H\n",
            "l\n",
            "Hl\n"
          ]
        }
      ]
    },
    {
      "cell_type": "code",
      "source": [
        "#slicing (its like substring)\n",
        "Name = \"Bangalore\"\n",
        "\n",
        "\n",
        "print(Name[ :5:1])\n",
        "print(Name[2: :1])\n",
        "print(Name[0:6: ])\n",
        "print(Name[ : : ])\n",
        "print(Name[2:7:1])\n",
        "print(Name[::3])\n",
        "\n",
        "# s[Start:Stop:Step]\n",
        "# if not given for start it will consider as 0, 2 paramater will take as entire , if 3rd is emty it will take 0"
      ],
      "metadata": {
        "colab": {
          "base_uri": "https://localhost:8080/"
        },
        "id": "qmk0v9VFjQRQ",
        "outputId": "1abadb09-28ba-480e-8929-6939570f4b73"
      },
      "execution_count": null,
      "outputs": [
        {
          "output_type": "stream",
          "name": "stdout",
          "text": [
            "Banga\n",
            "ngalore\n",
            "Bangal\n",
            "Bangalore\n",
            "ngalo\n",
            "Bgo\n"
          ]
        }
      ]
    },
    {
      "cell_type": "code",
      "source": [
        "#Negative Slicing\n",
        "\n",
        "Name = \"Bangalore\"\n",
        "print(Name[-1:-6:-1])\n",
        "print(Name[-2::-1])\n",
        "print(Name[::-1])\n",
        "print(Name[-8:-1:-1])\n",
        "print(Name[3:0:-1])\n",
        "print(Name[7:1:2])  # result would be blank first would be small and second would be bigger\n",
        "print(Name[-9:-4:2])\n",
        "print(Name[-9:7:1])\n",
        "print(Name[1:4:]) # default step size is positive 1\n",
        "print(Name[::])"
      ],
      "metadata": {
        "id": "C3_ScG4nklJt",
        "colab": {
          "base_uri": "https://localhost:8080/"
        },
        "outputId": "5783d241-2c54-4cd1-c0a3-75418d17acc5"
      },
      "execution_count": null,
      "outputs": [
        {
          "output_type": "stream",
          "name": "stdout",
          "text": [
            "erola\n",
            "rolagnaB\n",
            "erolagnaB\n",
            "\n",
            "gna\n",
            "\n",
            "Bna\n",
            "Bangalo\n",
            "ang\n",
            "Bangalore\n"
          ]
        }
      ]
    },
    {
      "cell_type": "code",
      "source": [
        "Name = \"Code yug\"\n",
        "print(Name[-1:-4:-1])\n",
        "print(Name[-1:-5:-1])\n",
        "print(Name[-2:-6:2])\n",
        "print(Name[-1::-1])\n",
        "print(Name[-3:-11])\n",
        "print(Name[-1:-1:-1])\n"
      ],
      "metadata": {
        "colab": {
          "base_uri": "https://localhost:8080/"
        },
        "id": "awy2RIPX6vq5",
        "outputId": "b9c42daf-98df-4c7b-eb49-aba676392ce1"
      },
      "execution_count": null,
      "outputs": [
        {
          "output_type": "stream",
          "name": "stdout",
          "text": [
            "guy\n",
            "guy \n",
            "\n",
            "guy edoC\n",
            "\n",
            "\n"
          ]
        }
      ]
    },
    {
      "cell_type": "code",
      "source": [
        "String = \"Hello, world!\"\n",
        "print(String[:5])\n",
        "print(String[-6:-1])\n",
        "print(String[-3:])\n",
        "print(String[-5:2:-2])"
      ],
      "metadata": {
        "colab": {
          "base_uri": "https://localhost:8080/"
        },
        "id": "ViJ9Tl_L7Uo9",
        "outputId": "b18a6476-58d8-4b21-d48b-f55fde23ae88"
      },
      "execution_count": null,
      "outputs": [
        {
          "output_type": "stream",
          "name": "stdout",
          "text": [
            "Hello\n",
            "world\n",
            "ld!\n",
            "o o\n"
          ]
        }
      ]
    },
    {
      "cell_type": "code",
      "source": [
        "String = \"Python is fun!\"\n",
        "print(String[::2][::-1])\n",
        "\n"
      ],
      "metadata": {
        "colab": {
          "base_uri": "https://localhost:8080/"
        },
        "id": "z9K7TFhX9F7D",
        "outputId": "69258d88-b309-41dd-ec78-d8ea5610db7c"
      },
      "execution_count": null,
      "outputs": [
        {
          "output_type": "stream",
          "name": "stdout",
          "text": [
            "nfs otP\n"
          ]
        }
      ]
    },
    {
      "cell_type": "code",
      "source": [
        "String = \"Python is fun\"\n",
        "\n",
        "print(String[0:5][::-1])"
      ],
      "metadata": {
        "colab": {
          "base_uri": "https://localhost:8080/"
        },
        "id": "mch3HAdm9-7B",
        "outputId": "763dc79d-e9fe-476c-e1ab-c9af110f83fa"
      },
      "execution_count": null,
      "outputs": [
        {
          "output_type": "stream",
          "name": "stdout",
          "text": [
            "ohtyP\n"
          ]
        }
      ]
    },
    {
      "cell_type": "code",
      "source": [
        "string = \"Programming\"\n",
        "print (string[3:len(string)-4])"
      ],
      "metadata": {
        "colab": {
          "base_uri": "https://localhost:8080/"
        },
        "id": "YavIahAK-IS1",
        "outputId": "382e1a59-6167-4e54-e207-528ee4a3d153"
      },
      "execution_count": null,
      "outputs": [
        {
          "output_type": "stream",
          "name": "stdout",
          "text": [
            "gram\n"
          ]
        }
      ]
    },
    {
      "cell_type": "code",
      "source": [
        "#Decision making statements\n",
        "#Simple If statement\n",
        "\n",
        "if 10>15:\n",
        "  print(\"Start of if\") #intentation space (before print)\n",
        "  print(\"10 is greater\")\n",
        "  print(\"End of if\")\n",
        "\n",
        "print(\"End of program\")\n"
      ],
      "metadata": {
        "colab": {
          "base_uri": "https://localhost:8080/"
        },
        "id": "ulNrFBbZ-Z6p",
        "outputId": "413f84d1-57c8-4045-a733-a8dc900a26b4"
      },
      "execution_count": null,
      "outputs": [
        {
          "output_type": "stream",
          "name": "stdout",
          "text": [
            "End of program\n"
          ]
        }
      ]
    },
    {
      "cell_type": "code",
      "source": [
        "#if else\n",
        "\n",
        "\n",
        "if 10>15:\n",
        "  print(\"Start of if\") #intentation space (before print)\n",
        "  print(\"10 is greater\")\n",
        "  print(\"End of if\")\n",
        "else:\n",
        "  print(\"End of program\")\n"
      ],
      "metadata": {
        "colab": {
          "base_uri": "https://localhost:8080/"
        },
        "id": "0KjzBl4NAEDq",
        "outputId": "542305dd-0585-4fbb-bed9-410d05142123"
      },
      "execution_count": null,
      "outputs": [
        {
          "output_type": "stream",
          "name": "stdout",
          "text": [
            "End of program\n"
          ]
        }
      ]
    },
    {
      "cell_type": "code",
      "source": [
        "# input function\n",
        "a = input(\"Enter a value\") # input function returns all the values in string format\n",
        "print(a)\n",
        "print(type(a))"
      ],
      "metadata": {
        "colab": {
          "base_uri": "https://localhost:8080/"
        },
        "id": "KWun25arA18P",
        "outputId": "24f88cb5-1fad-4309-b29e-e8f237291a9a"
      },
      "execution_count": null,
      "outputs": [
        {
          "output_type": "stream",
          "name": "stdout",
          "text": [
            "Enter a value10\n",
            "10\n",
            "<class 'str'>\n"
          ]
        }
      ]
    },
    {
      "cell_type": "code",
      "source": [
        "# input function - type cast\n",
        "a = int(input(\"Enter a value\")) # input function returns all the values in string format\n",
        "print(a)\n",
        "print(type(a))"
      ],
      "metadata": {
        "colab": {
          "base_uri": "https://localhost:8080/"
        },
        "id": "j5oDX7WTBlTq",
        "outputId": "e542453d-cf36-4fd5-a667-546eeeb961dd"
      },
      "execution_count": null,
      "outputs": [
        {
          "output_type": "stream",
          "name": "stdout",
          "text": [
            "Enter a value10\n",
            "10\n",
            "<class 'int'>\n"
          ]
        }
      ]
    },
    {
      "cell_type": "code",
      "source": [
        "# input function - type cast\n",
        "a = float(input(\"Enter a value\")) # input function returns all the values in string format\n",
        "print(a)\n",
        "print(type(a))"
      ],
      "metadata": {
        "colab": {
          "base_uri": "https://localhost:8080/"
        },
        "id": "wE1Al39jBuvS",
        "outputId": "0b11167a-d117-45f8-8b89-378140dc6b1c"
      },
      "execution_count": null,
      "outputs": [
        {
          "output_type": "stream",
          "name": "stdout",
          "text": [
            "Enter a value10.34\n",
            "10.34\n",
            "<class 'float'>\n"
          ]
        }
      ]
    },
    {
      "cell_type": "code",
      "source": [
        "# input function\n",
        "a = int(input(\"Enter a value\")) # input function returns all the values in string format\n",
        "print(a)\n",
        "print(type(a))"
      ],
      "metadata": {
        "colab": {
          "base_uri": "https://localhost:8080/"
        },
        "id": "5s2_x3rsB8Vp",
        "outputId": "73bb523c-5dde-4856-8990-229264f30e15"
      },
      "execution_count": null,
      "outputs": [
        {
          "output_type": "stream",
          "name": "stdout",
          "text": [
            "Enter a value10\n",
            "10\n",
            "<class 'int'>\n"
          ]
        }
      ]
    },
    {
      "cell_type": "code",
      "source": [
        "#if else statement\n",
        "a = int(input(\"Enter a value\"))\n",
        "b = int(input(\"Enter b value\"))\n",
        "\n",
        "if(a>b):\n",
        "  print(\"a is greater\")\n",
        "  print(\"if block\")\n",
        "else:\n",
        "   print(\"b is greater\")\n",
        "   print(\"else block\")\n"
      ],
      "metadata": {
        "colab": {
          "base_uri": "https://localhost:8080/"
        },
        "id": "elxHIYboCKG8",
        "outputId": "7a9005b2-6dc6-4996-920e-86e0d6fdbf21"
      },
      "execution_count": null,
      "outputs": [
        {
          "output_type": "stream",
          "name": "stdout",
          "text": [
            "Enter a value10\n",
            "Enter b value20\n",
            "b is greater\n",
            "else block\n"
          ]
        }
      ]
    },
    {
      "cell_type": "code",
      "source": [
        "# if else ladder\n",
        "s = input(\"enter a color\")\n",
        "\n",
        "if s==\"red\":\n",
        "  print(\"stop\")\n",
        "elif s==\"yellow\":\n",
        "  print(\"ready\")\n",
        "elif s==\"green\":\n",
        "  print(\"go\")\n",
        "else:\n",
        "  print(\"invalid\")"
      ],
      "metadata": {
        "colab": {
          "base_uri": "https://localhost:8080/"
        },
        "id": "fKnFcl-7DeRH",
        "outputId": "334cfff6-25f8-4c4d-a65e-3eda7fcd2b7f"
      },
      "execution_count": null,
      "outputs": [
        {
          "output_type": "stream",
          "name": "stdout",
          "text": [
            "enter a colorred\n",
            "stop\n"
          ]
        }
      ]
    },
    {
      "cell_type": "code",
      "source": [
        "#palindrome function\n",
        "a=input(\"enter a string:\")\n",
        "b=a[::-1]\n",
        "if a==b:\n",
        "  print(\"palindrome\")\n",
        "else:\n",
        "  print(\"not palindrome\")"
      ],
      "metadata": {
        "colab": {
          "base_uri": "https://localhost:8080/"
        },
        "id": "e2Di9s1iEKeC",
        "outputId": "7f998840-8ff4-40f2-83f1-5d5d29f47e31"
      },
      "execution_count": null,
      "outputs": [
        {
          "output_type": "stream",
          "name": "stdout",
          "text": [
            "enter a string:malayalam\n",
            "palindrome\n"
          ]
        }
      ]
    },
    {
      "cell_type": "code",
      "source": [
        "s=input(\"Enter a String:\");\n",
        "rev=s[len(s)::-1];\n",
        "print(rev)\n",
        "\n",
        "if(s==rev):\n",
        "    print(\"Palindrome\");\n",
        "else:\n",
        "    print(\"Not a palindrome\");"
      ],
      "metadata": {
        "colab": {
          "base_uri": "https://localhost:8080/"
        },
        "id": "w5olS97GEzoA",
        "outputId": "65af232f-d989-45a8-ff18-a885b1758d17"
      },
      "execution_count": null,
      "outputs": [
        {
          "output_type": "stream",
          "name": "stdout",
          "text": [
            "Enter a String:malayalam\n",
            "malayalam\n",
            "Palindrome\n"
          ]
        }
      ]
    },
    {
      "cell_type": "code",
      "source": [
        "#program to check the polindrome\n",
        "text = input(\"enter a string\")\n",
        "text = text.lower()\n",
        "\n",
        "revtext = text[::-1]\n",
        "\n",
        "if text == revtext:\n",
        "  print(\"palindrome\")\n",
        "else:\n",
        "  print(\"not palindrome\")"
      ],
      "metadata": {
        "colab": {
          "base_uri": "https://localhost:8080/"
        },
        "id": "XulGUBKyE4NH",
        "outputId": "7473c5aa-4e24-4c83-f5bc-cb4062d3dad6"
      },
      "execution_count": null,
      "outputs": [
        {
          "output_type": "stream",
          "name": "stdout",
          "text": [
            "enter a stringmalayalam\n",
            "palindrome\n"
          ]
        }
      ]
    },
    {
      "cell_type": "code",
      "source": [
        "#while loop\n",
        "\n",
        "i =10\n",
        "\n",
        "while i<15 :\n",
        "  print(i)\n",
        "  i = i+1\n",
        "print(\"end of while\")\n"
      ],
      "metadata": {
        "colab": {
          "base_uri": "https://localhost:8080/"
        },
        "id": "L7eG_lkyF6XU",
        "outputId": "27468a4f-535e-4509-b557-85cc725efc8b"
      },
      "execution_count": null,
      "outputs": [
        {
          "output_type": "stream",
          "name": "stdout",
          "text": [
            "10\n",
            "11\n",
            "12\n",
            "13\n",
            "14\n",
            "end of while\n"
          ]
        }
      ]
    },
    {
      "cell_type": "code",
      "source": [
        "#multiplication table\n",
        "\n",
        "num = int(input(\"Enter a number : \"))\n",
        "i = 1\n",
        "while i<=10:\n",
        "    print(i*num)\n",
        "    i = i+1"
      ],
      "metadata": {
        "colab": {
          "base_uri": "https://localhost:8080/"
        },
        "id": "PhjAjskuH8Bh",
        "outputId": "b40b2f33-eb12-49f9-cc6d-38e3e0d40765"
      },
      "execution_count": null,
      "outputs": [
        {
          "output_type": "stream",
          "name": "stdout",
          "text": [
            "Enter a number : 5\n",
            "5\n",
            "10\n",
            "15\n",
            "20\n",
            "25\n",
            "30\n",
            "35\n",
            "40\n",
            "45\n",
            "50\n"
          ]
        }
      ]
    },
    {
      "cell_type": "code",
      "source": [
        "#multiplication table\n",
        "\n",
        "i=int(input(\"Enter a Number:\"))\n",
        "a=1\n",
        "while a<=10 :\n",
        "  b=i*a\n",
        "  print(i,\"x\",a,\"=\",b)\n",
        "  a=a+1"
      ],
      "metadata": {
        "colab": {
          "base_uri": "https://localhost:8080/"
        },
        "id": "YUQnS35bI0P0",
        "outputId": "7b3be1bb-d5ca-420e-d168-a2fcee2ef83d"
      },
      "execution_count": null,
      "outputs": [
        {
          "output_type": "stream",
          "name": "stdout",
          "text": [
            "Enter a Number:5\n",
            "5 x 1 = 5\n",
            "5 x 2 = 10\n",
            "5 x 3 = 15\n",
            "5 x 4 = 20\n",
            "5 x 5 = 25\n",
            "5 x 6 = 30\n",
            "5 x 7 = 35\n",
            "5 x 8 = 40\n",
            "5 x 9 = 45\n",
            "5 x 10 = 50\n"
          ]
        }
      ]
    },
    {
      "cell_type": "code",
      "source": [
        "#multiplication table\n",
        "\n",
        "num = int(input(\"Enter a number : \"))\n",
        "i = 1\n",
        "while i<=10:\n",
        "    print(num, \"*\" , i , \"=\", i*num)\n",
        "    i = i+1"
      ],
      "metadata": {
        "colab": {
          "base_uri": "https://localhost:8080/"
        },
        "id": "bz2S4Nb8I8gu",
        "outputId": "8275858d-3271-49c0-9a9f-8312d3c0a0a3"
      },
      "execution_count": null,
      "outputs": [
        {
          "output_type": "stream",
          "name": "stdout",
          "text": [
            "Enter a number : 5\n",
            "5 * 1 = 5\n",
            "5 * 2 = 10\n",
            "5 * 3 = 15\n",
            "5 * 4 = 20\n",
            "5 * 5 = 25\n",
            "5 * 6 = 30\n",
            "5 * 7 = 35\n",
            "5 * 8 = 40\n",
            "5 * 9 = 45\n",
            "5 * 10 = 50\n"
          ]
        }
      ]
    },
    {
      "cell_type": "code",
      "source": [
        "# for loop\n",
        "\n",
        "s=\"john\"\n",
        "\n",
        "for i in s:\n",
        "  print(i)\n"
      ],
      "metadata": {
        "colab": {
          "base_uri": "https://localhost:8080/"
        },
        "id": "T8Q4ZA-iJPEd",
        "outputId": "7aa0f900-79de-4f75-ff2e-addd4876c004"
      },
      "execution_count": null,
      "outputs": [
        {
          "output_type": "stream",
          "name": "stdout",
          "text": [
            "j\n",
            "o\n",
            "h\n",
            "n\n"
          ]
        }
      ]
    },
    {
      "cell_type": "code",
      "source": [
        "for i in [10,20,30,40]:\n",
        "  print(i)"
      ],
      "metadata": {
        "colab": {
          "base_uri": "https://localhost:8080/"
        },
        "id": "VCCemz_9KMNg",
        "outputId": "f24b704c-ce2a-4943-8a1e-5c88e261c56d"
      },
      "execution_count": null,
      "outputs": [
        {
          "output_type": "stream",
          "name": "stdout",
          "text": [
            "10\n",
            "20\n",
            "30\n",
            "40\n"
          ]
        }
      ]
    },
    {
      "cell_type": "code",
      "source": [
        "for i in (10,20,30,40):\n",
        "  print(i)"
      ],
      "metadata": {
        "colab": {
          "base_uri": "https://localhost:8080/"
        },
        "id": "1hKfc9sBKRJy",
        "outputId": "85aedc6d-8b69-4be8-8042-33424d3e901f"
      },
      "execution_count": null,
      "outputs": [
        {
          "output_type": "stream",
          "name": "stdout",
          "text": [
            "10\n",
            "20\n",
            "30\n",
            "40\n"
          ]
        }
      ]
    },
    {
      "cell_type": "code",
      "source": [
        "for i in (10,20,30,40):\n",
        "  print(i*30)"
      ],
      "metadata": {
        "colab": {
          "base_uri": "https://localhost:8080/"
        },
        "id": "W2WugFTAKWli",
        "outputId": "ec209760-093a-43e2-d2c3-1ce6db92fa63"
      },
      "execution_count": null,
      "outputs": [
        {
          "output_type": "stream",
          "name": "stdout",
          "text": [
            "300\n",
            "600\n",
            "900\n",
            "1200\n"
          ]
        }
      ]
    },
    {
      "cell_type": "code",
      "source": [
        "for i in (10,20,30,40):\n",
        "  print(i)\n",
        "  print(type(i))"
      ],
      "metadata": {
        "colab": {
          "base_uri": "https://localhost:8080/"
        },
        "id": "B-CCEEPqKiBh",
        "outputId": "d8a83a0a-5da1-4a6f-810b-7df6f8c7dcb1"
      },
      "execution_count": null,
      "outputs": [
        {
          "output_type": "stream",
          "name": "stdout",
          "text": [
            "10\n",
            "<class 'int'>\n",
            "20\n",
            "<class 'int'>\n",
            "30\n",
            "<class 'int'>\n",
            "40\n",
            "<class 'int'>\n"
          ]
        }
      ]
    },
    {
      "cell_type": "code",
      "source": [
        "for i in \"2025john\":\n",
        "  print(i)\n",
        "  print(type(i))"
      ],
      "metadata": {
        "colab": {
          "base_uri": "https://localhost:8080/"
        },
        "id": "UQnut4hVLUay",
        "outputId": "f9cc7da0-2c0f-40a2-9ebf-1adfb510ba82"
      },
      "execution_count": null,
      "outputs": [
        {
          "output_type": "stream",
          "name": "stdout",
          "text": [
            "2\n",
            "<class 'str'>\n",
            "0\n",
            "<class 'str'>\n",
            "2\n",
            "<class 'str'>\n",
            "5\n",
            "<class 'str'>\n",
            "j\n",
            "<class 'str'>\n",
            "o\n",
            "<class 'str'>\n",
            "h\n",
            "<class 'str'>\n",
            "n\n",
            "<class 'str'>\n"
          ]
        }
      ]
    },
    {
      "cell_type": "code",
      "source": [
        "for i in [10,\"john\",20.3]:\n",
        "  print(i)\n",
        "  print(type(i))"
      ],
      "metadata": {
        "colab": {
          "base_uri": "https://localhost:8080/"
        },
        "id": "mByqyT1wLZla",
        "outputId": "1a441694-bb35-4d5e-f54a-2741578148e5"
      },
      "execution_count": null,
      "outputs": [
        {
          "output_type": "stream",
          "name": "stdout",
          "text": [
            "10\n",
            "<class 'int'>\n",
            "john\n",
            "<class 'str'>\n",
            "20.3\n",
            "<class 'float'>\n"
          ]
        }
      ]
    },
    {
      "cell_type": "code",
      "source": [],
      "metadata": {
        "id": "h7Td-Cz0LiNf"
      },
      "execution_count": null,
      "outputs": []
    }
  ]
}