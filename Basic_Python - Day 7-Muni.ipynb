{
  "nbformat": 4,
  "nbformat_minor": 0,
  "metadata": {
    "colab": {
      "provenance": [],
      "name": "Basic Python.ipynb",
      "include_colab_link": true
    },
    "kernelspec": {
      "name": "python3",
      "display_name": "Python 3"
    },
    "language_info": {
      "name": "python"
    }
  },
  "cells": [
    {
      "cell_type": "markdown",
      "metadata": {
        "id": "view-in-github",
        "colab_type": "text"
      },
      "source": [
        "<a href=\"https://colab.research.google.com/github/RobertsonGit0Hub/Python/blob/main/Basic_Python%20-%20Day%207-Muni.ipynb\" target=\"_parent\"><img src=\"https://colab.research.google.com/assets/colab-badge.svg\" alt=\"Open In Colab\"/></a>"
      ]
    },
    {
      "cell_type": "markdown",
      "source": [
        "### ***********Machine Learning journey through Python- Phase-1***********\n",
        "# *****Day 3  Practice - 04/11/2025 First Practical *****"
      ],
      "metadata": {
        "id": "NAv3OE11hqow"
      }
    },
    {
      "cell_type": "code",
      "execution_count": null,
      "metadata": {
        "colab": {
          "base_uri": "https://localhost:8080/"
        },
        "id": "HpmbKqI7jltH",
        "outputId": "1bce5564-b27e-43d0-b651-e63413967a89"
      },
      "outputs": [
        {
          "output_type": "stream",
          "name": "stdout",
          "text": [
            "hello Muni\n"
          ]
        }
      ],
      "source": [
        "print(\"hello Muni\")"
      ]
    },
    {
      "cell_type": "code",
      "source": [],
      "metadata": {
        "id": "3y_FYudvgNMZ"
      },
      "execution_count": null,
      "outputs": []
    },
    {
      "cell_type": "code",
      "source": [],
      "metadata": {
        "id": "vJDdoc-mh5WS"
      },
      "execution_count": null,
      "outputs": []
    },
    {
      "cell_type": "code",
      "source": [
        "# Day 3\n",
        "#creating s simple list\n",
        "l=[10,20.3,\"Ntt\",3+4j]\n",
        "print (l)\n",
        "print(type(l))\n",
        "print (l[-2])\n",
        "\n"
      ],
      "metadata": {
        "colab": {
          "base_uri": "https://localhost:8080/"
        },
        "id": "uJl5DeSfTKZZ",
        "outputId": "8ee6da04-7697-4bbc-b1ba-ec7d4760a4eb"
      },
      "execution_count": null,
      "outputs": [
        {
          "output_type": "stream",
          "name": "stdout",
          "text": [
            "[10, 20.3, 'Ntt', (3+4j)]\n",
            "<class 'list'>\n",
            "Ntt\n"
          ]
        }
      ]
    },
    {
      "cell_type": "code",
      "source": [
        "l={10:\"Arjith\",20:\"Muni\",30:\"Rovbert\"}\n",
        "print (type(l))\n"
      ],
      "metadata": {
        "colab": {
          "base_uri": "https://localhost:8080/"
        },
        "id": "-d8b2_yr5W2g",
        "outputId": "ba9f7abe-64d3-40e9-92a8-4a7d43b04c4c"
      },
      "execution_count": null,
      "outputs": [
        {
          "output_type": "stream",
          "name": "stdout",
          "text": [
            "<class 'dict'>\n"
          ]
        }
      ]
    },
    {
      "cell_type": "code",
      "source": [
        "l={100:\"Arjith\",20:\"Muni\",333:\"Robert\"}\n",
        "print (l[333])"
      ],
      "metadata": {
        "colab": {
          "base_uri": "https://localhost:8080/"
        },
        "id": "raP8IFlJ55lw",
        "outputId": "f299ec04-9abd-4e02-ead4-3d7288fa0a90"
      },
      "execution_count": null,
      "outputs": [
        {
          "output_type": "stream",
          "name": "stdout",
          "text": [
            "Robert\n"
          ]
        }
      ]
    },
    {
      "cell_type": "code",
      "source": [
        "s = {12,13,14,14,\"Hello\",\"Hello\"}\n",
        "\n",
        "#print(s[2])\n"
      ],
      "metadata": {
        "id": "fuCKuvtG6WuI"
      },
      "execution_count": null,
      "outputs": []
    },
    {
      "cell_type": "code",
      "source": [
        "s = {12, 13, 14, 14, \"Hello\", \"Hello\"}\n",
        "\n",
        "for element in s:\n",
        "    print(element)"
      ],
      "metadata": {
        "colab": {
          "base_uri": "https://localhost:8080/"
        },
        "id": "ERyEdD3f7VKC",
        "outputId": "fe91db04-6ed0-4a0c-cbe4-8521e0b5cda0"
      },
      "execution_count": null,
      "outputs": [
        {
          "output_type": "stream",
          "name": "stdout",
          "text": [
            "12\n",
            "13\n",
            "14\n",
            "Hello\n"
          ]
        }
      ]
    },
    {
      "cell_type": "code",
      "source": [
        "s = {12, 13, 14, \"Hello\", \"hello\"}\n",
        "\n",
        "s_list = list(s)\n",
        "print(s_list[4])  # Access the first element of the list"
      ],
      "metadata": {
        "colab": {
          "base_uri": "https://localhost:8080/"
        },
        "id": "zUQxzsWV7Ylz",
        "outputId": "02d4a3ca-a402-403b-af55-b5c84078f588"
      },
      "execution_count": null,
      "outputs": [
        {
          "output_type": "stream",
          "name": "stdout",
          "text": [
            "14\n"
          ]
        }
      ]
    },
    {
      "cell_type": "code",
      "source": [
        "#isinstance\n",
        "a=10\n",
        "print (isinstance(a,int))\n"
      ],
      "metadata": {
        "colab": {
          "base_uri": "https://localhost:8080/"
        },
        "id": "_5wHueRsT9e7",
        "outputId": "3e348658-00e0-466c-8dfe-22913d8e5002"
      },
      "execution_count": null,
      "outputs": [
        {
          "output_type": "stream",
          "name": "stdout",
          "text": [
            "True\n"
          ]
        }
      ]
    },
    {
      "cell_type": "code",
      "source": [
        "#variable annotations\n",
        "name: str = \"NTT\"\n",
        "print(name)\n",
        "print(__annotations__['name'])"
      ],
      "metadata": {
        "colab": {
          "base_uri": "https://localhost:8080/"
        },
        "id": "xQHytdgQUK9_",
        "outputId": "82c34e32-ed29-471c-e57e-3f910bef6180"
      },
      "execution_count": null,
      "outputs": [
        {
          "output_type": "stream",
          "name": "stdout",
          "text": [
            "NTT\n",
            "<class 'str'>\n"
          ]
        }
      ]
    },
    {
      "cell_type": "code",
      "source": [
        "name: str = \"NTT\"  # need to ask doubt from siva\n",
        "\n",
        "print(name)\n",
        "\n",
        "print(type(name))\n",
        "name = 10\n",
        "print(name)\n",
        "print(type(name))\n",
        "\n",
        "print(__annotations__['name'])\n"
      ],
      "metadata": {
        "id": "k_9V-vBIUxKK",
        "colab": {
          "base_uri": "https://localhost:8080/"
        },
        "outputId": "35bcc14a-c2f6-4092-9d4f-4d32bda27199"
      },
      "execution_count": null,
      "outputs": [
        {
          "output_type": "stream",
          "name": "stdout",
          "text": [
            "NTT\n",
            "<class 'str'>\n",
            "10\n",
            "<class 'int'>\n",
            "<class 'str'>\n"
          ]
        }
      ]
    },
    {
      "cell_type": "code",
      "source": [
        "name: int = 10\n",
        "print(name)\n",
        "print(__annotations__['name'])"
      ],
      "metadata": {
        "colab": {
          "base_uri": "https://localhost:8080/"
        },
        "id": "HaaltRd32J1d",
        "outputId": "eb403c4e-bd66-4584-f7fb-13a9555635d3"
      },
      "execution_count": null,
      "outputs": [
        {
          "output_type": "stream",
          "name": "stdout",
          "text": [
            "10\n",
            "<class 'int'>\n"
          ]
        }
      ]
    },
    {
      "cell_type": "code",
      "source": [],
      "metadata": {
        "id": "pNjjTUeXWcwI"
      },
      "execution_count": null,
      "outputs": []
    },
    {
      "cell_type": "code",
      "source": [
        "aaa=10\n",
        "print(aaa)\n",
        "print(type(aaa))\n",
        "\n",
        "#print(__annotations__['aaa'])\n"
      ],
      "metadata": {
        "colab": {
          "base_uri": "https://localhost:8080/"
        },
        "id": "7c6ghR13Vzrp",
        "outputId": "5a5a165c-7b94-4d10-cc33-6cc4321af779"
      },
      "execution_count": null,
      "outputs": [
        {
          "output_type": "stream",
          "name": "stdout",
          "text": [
            "10\n",
            "<class 'int'>\n"
          ]
        }
      ]
    },
    {
      "cell_type": "code",
      "source": [
        "# variable annotation\n",
        "\n",
        "aa: int = 10\n",
        "print(aa)\n",
        "\n",
        "print(__annotations__['aa'])\n",
        "print(type(aa))\n"
      ],
      "metadata": {
        "colab": {
          "base_uri": "https://localhost:8080/"
        },
        "id": "hlDFRsG0Wev7",
        "outputId": "02dbf3b6-738f-4036-f103-2451d17e8ebb"
      },
      "execution_count": null,
      "outputs": [
        {
          "output_type": "stream",
          "name": "stdout",
          "text": [
            "10\n",
            "<class 'int'>\n",
            "<class 'int'>\n"
          ]
        }
      ]
    },
    {
      "cell_type": "code",
      "source": [
        "#tuple - unable to chnage the content at run time t = (1,2,3..) , but list we can change it L = [1,2,3,4,...]\n"
      ],
      "metadata": {
        "id": "-zs2BtDYYOX0"
      },
      "execution_count": null,
      "outputs": []
    },
    {
      "cell_type": "code",
      "source": [
        "#dictionary  d = {a:1, b:2, c:3} - a, b, c are index and 1 2 3 are value"
      ],
      "metadata": {
        "id": "7eZYgoGnZkGa"
      },
      "execution_count": null,
      "outputs": []
    },
    {
      "cell_type": "code",
      "source": [
        "print(18//4)"
      ],
      "metadata": {
        "colab": {
          "base_uri": "https://localhost:8080/"
        },
        "id": "vVrHlCjgfrpB",
        "outputId": "1ac860a7-85c4-4d22-ab3a-251fd6e195e7"
      },
      "execution_count": null,
      "outputs": [
        {
          "output_type": "stream",
          "name": "stdout",
          "text": [
            "4\n"
          ]
        }
      ]
    },
    {
      "cell_type": "code",
      "source": [
        "print(18%4)"
      ],
      "metadata": {
        "colab": {
          "base_uri": "https://localhost:8080/"
        },
        "id": "ez0Q5SYLfwVB",
        "outputId": "5675b57b-ff1d-431b-e457-c78ba59c486b"
      },
      "execution_count": null,
      "outputs": [
        {
          "output_type": "stream",
          "name": "stdout",
          "text": [
            "2\n"
          ]
        }
      ]
    },
    {
      "cell_type": "code",
      "source": [
        "print((18.0//4))"
      ],
      "metadata": {
        "colab": {
          "base_uri": "https://localhost:8080/"
        },
        "id": "9xQ4YNdEf0WQ",
        "outputId": "c98aceef-7719-4fcf-f8f3-d4570b2b5379"
      },
      "execution_count": null,
      "outputs": [
        {
          "output_type": "stream",
          "name": "stdout",
          "text": [
            "4.0\n"
          ]
        }
      ]
    },
    {
      "cell_type": "code",
      "source": [
        "print(\"\"\"  working on multiline\n",
        "  sample \"\"\")"
      ],
      "metadata": {
        "colab": {
          "base_uri": "https://localhost:8080/"
        },
        "id": "pGTzI4EIf4L5",
        "outputId": "135722f1-0efe-42f4-908b-cb7a85673021"
      },
      "execution_count": null,
      "outputs": [
        {
          "output_type": "stream",
          "name": "stdout",
          "text": [
            "  working on multiline\n",
            "  sample \n"
          ]
        }
      ]
    },
    {
      "cell_type": "code",
      "source": [
        "#1-1 = 0 , 2-1 = 1, 3-1 = 2 (last param)\n",
        "Name = \"Hello world\"\n",
        "print(Name[0])\n",
        "print(Name[-8])\n",
        "\n",
        "print(Name[0:6:3])"
      ],
      "metadata": {
        "colab": {
          "base_uri": "https://localhost:8080/"
        },
        "id": "FCzAbliMg0ld",
        "outputId": "8f789eb1-0008-435b-9acb-573208c75d4d"
      },
      "execution_count": null,
      "outputs": [
        {
          "output_type": "stream",
          "name": "stdout",
          "text": [
            "H\n",
            "l\n",
            "Hl\n"
          ]
        }
      ]
    },
    {
      "cell_type": "markdown",
      "source": [
        "### ***********Machine Learning journey through Python- Phase-1***********\n",
        "# *****Day 4  Practice - 04/15/2025*****"
      ],
      "metadata": {
        "id": "3MbS7AEOgsyR"
      }
    },
    {
      "cell_type": "code",
      "source": [
        "#slicing (its like substring) Day 4 Class -- 04/15/2025\n",
        "\n",
        "Name = \"Bangalore\"\n",
        "\n",
        "print(Name[ :5:1])\n",
        "print(Name[2: :1])\n",
        "print(Name[0:6: ])\n",
        "print(Name[ : : ])\n",
        "print(Name[2:7:1])\n",
        "print(Name[::3])\n",
        "\n",
        "# s[Start:Stop:Step]\n",
        "# if not given for start it will consider as 0, 2 paramater will take as entire , if 3rd is emty it will take 1"
      ],
      "metadata": {
        "colab": {
          "base_uri": "https://localhost:8080/"
        },
        "id": "qmk0v9VFjQRQ",
        "outputId": "0b092348-f6d1-44e0-82d6-1a3579c9ea1a"
      },
      "execution_count": null,
      "outputs": [
        {
          "output_type": "stream",
          "name": "stdout",
          "text": [
            "Banga\n",
            "ngalore\n",
            "Bangal\n",
            "Bangalore\n",
            "ngalo\n",
            "Bgo\n"
          ]
        }
      ]
    },
    {
      "cell_type": "code",
      "source": [
        "#Negative Slicing\n",
        "\n",
        "Name = \"Bangalore\"\n",
        "print(Name[-1:-6:-1])\n",
        "print(Name[-2::-1])\n",
        "print(Name[::-1]) # To reverse the string\n",
        "print(Name[-8:-1:-1])\n",
        "print(Name[3:0:-1])\n",
        "print(Name[7:1:2])  # result would be blank first would be small and second would be bigger\n",
        "print(Name[-9:-4:2])\n",
        "print(Name[-9:7:1])\n",
        "print(Name[1:4:]) # default step size is positive 1\n",
        "print(Name[::])"
      ],
      "metadata": {
        "id": "C3_ScG4nklJt",
        "colab": {
          "base_uri": "https://localhost:8080/"
        },
        "outputId": "58dafc18-3b0a-40dd-afc8-2e79e136e85a"
      },
      "execution_count": null,
      "outputs": [
        {
          "output_type": "stream",
          "name": "stdout",
          "text": [
            "erola\n",
            "rolagnaB\n",
            "erolagnaB\n",
            "\n",
            "gna\n",
            "\n",
            "Bna\n",
            "Bangalo\n",
            "ang\n",
            "Bangalore\n"
          ]
        }
      ]
    },
    {
      "cell_type": "code",
      "source": [
        "Name = \"Code yug\"\n",
        "print(Name[-1:-4:-1])\n",
        "print(Name[-1:-5:-1])\n",
        "print(Name[-2:-6:2])\n",
        "print(Name[-1::-1])\n",
        "print(Name[-3:-11])\n",
        "print(Name[-1:-1:-1])\n"
      ],
      "metadata": {
        "colab": {
          "base_uri": "https://localhost:8080/"
        },
        "id": "awy2RIPX6vq5",
        "outputId": "b9c42daf-98df-4c7b-eb49-aba676392ce1"
      },
      "execution_count": null,
      "outputs": [
        {
          "output_type": "stream",
          "name": "stdout",
          "text": [
            "guy\n",
            "guy \n",
            "\n",
            "guy edoC\n",
            "\n",
            "\n"
          ]
        }
      ]
    },
    {
      "cell_type": "code",
      "source": [
        "String = \"Hello, world!\"\n",
        "print(String[:5])\n",
        "print(String[-6:-1])\n",
        "print(String[-3:])\n",
        "print(String[-5:2:-2])"
      ],
      "metadata": {
        "colab": {
          "base_uri": "https://localhost:8080/"
        },
        "id": "ViJ9Tl_L7Uo9",
        "outputId": "b18a6476-58d8-4b21-d48b-f55fde23ae88"
      },
      "execution_count": null,
      "outputs": [
        {
          "output_type": "stream",
          "name": "stdout",
          "text": [
            "Hello\n",
            "world\n",
            "ld!\n",
            "o o\n"
          ]
        }
      ]
    },
    {
      "cell_type": "code",
      "source": [
        "String = \"Python is fun!\"\n",
        "#print(String[::1][::-1])\n",
        "#print(String[::2])\n",
        "print(String[::-1][::-1])\n",
        "\n"
      ],
      "metadata": {
        "colab": {
          "base_uri": "https://localhost:8080/"
        },
        "id": "z9K7TFhX9F7D",
        "outputId": "3f8872bd-15b0-4c6c-c10e-b6a3fc537ed0"
      },
      "execution_count": null,
      "outputs": [
        {
          "output_type": "stream",
          "name": "stdout",
          "text": [
            "Python is fun!\n"
          ]
        }
      ]
    },
    {
      "cell_type": "code",
      "source": [
        "String = \"Python is fun\"\n",
        "\n",
        "print(String[0:5][::-1])\n",
        "print(String[0:5][::-1][::-1])\n",
        "#print(String[::-1])"
      ],
      "metadata": {
        "colab": {
          "base_uri": "https://localhost:8080/"
        },
        "id": "mch3HAdm9-7B",
        "outputId": "7d205c7f-d65c-42f5-bafc-ba5d76bbb80f"
      },
      "execution_count": null,
      "outputs": [
        {
          "output_type": "stream",
          "name": "stdout",
          "text": [
            "ohtyP\n",
            "Pytho\n"
          ]
        }
      ]
    },
    {
      "cell_type": "code",
      "source": [
        "string = \"Programming\"\n",
        "print (string[3:len(string)-5])"
      ],
      "metadata": {
        "colab": {
          "base_uri": "https://localhost:8080/"
        },
        "id": "YavIahAK-IS1",
        "outputId": "950f794d-97ea-4273-f85e-bc2bae017778"
      },
      "execution_count": null,
      "outputs": [
        {
          "output_type": "stream",
          "name": "stdout",
          "text": [
            "gra\n"
          ]
        }
      ]
    },
    {
      "cell_type": "code",
      "source": [
        "#Decision making statements\n",
        "#Simple If statement\n",
        "\n",
        "if 10>5:\n",
        "  print(\"Start of if\") #intentation space (before print)\n",
        "  print(\"10 is greater\")\n",
        "  print(\"End of if\")\n",
        "\n",
        "print(\"End of program\")\n"
      ],
      "metadata": {
        "colab": {
          "base_uri": "https://localhost:8080/"
        },
        "id": "ulNrFBbZ-Z6p",
        "outputId": "290be271-f7e1-4595-eaad-1f6c1ca880a7"
      },
      "execution_count": null,
      "outputs": [
        {
          "output_type": "stream",
          "name": "stdout",
          "text": [
            "Start of if\n",
            "10 is greater\n",
            "End of if\n",
            "End of program\n"
          ]
        }
      ]
    },
    {
      "cell_type": "code",
      "source": [
        "#if else\n",
        "\n",
        "\n",
        "if 10>15:\n",
        "  print(\"Start of if\") #intentation space (before print)\n",
        "  print(\"10 is greater\")\n",
        "  print(\"End of if\")\n",
        "else:\n",
        "  print(\"End of program\")\n"
      ],
      "metadata": {
        "colab": {
          "base_uri": "https://localhost:8080/"
        },
        "id": "0KjzBl4NAEDq",
        "outputId": "542305dd-0585-4fbb-bed9-410d05142123"
      },
      "execution_count": null,
      "outputs": [
        {
          "output_type": "stream",
          "name": "stdout",
          "text": [
            "End of program\n"
          ]
        }
      ]
    },
    {
      "cell_type": "code",
      "source": [
        "# input function\n",
        "a = input(\"Enter a value\") # input function returns all the values in string format\n",
        "print(a)\n",
        "print(type(a))"
      ],
      "metadata": {
        "colab": {
          "base_uri": "https://localhost:8080/"
        },
        "id": "KWun25arA18P",
        "outputId": "24f88cb5-1fad-4309-b29e-e8f237291a9a"
      },
      "execution_count": null,
      "outputs": [
        {
          "output_type": "stream",
          "name": "stdout",
          "text": [
            "Enter a value10\n",
            "10\n",
            "<class 'str'>\n"
          ]
        }
      ]
    },
    {
      "cell_type": "code",
      "source": [
        "# input function - type cast\n",
        "a = int(input(\"Enter a value\")) # input function returns all the values in string format\n",
        "print(a)\n",
        "print(type(a))"
      ],
      "metadata": {
        "colab": {
          "base_uri": "https://localhost:8080/"
        },
        "id": "j5oDX7WTBlTq",
        "outputId": "f1dd95f0-5405-4b69-bc81-751c830d5866"
      },
      "execution_count": null,
      "outputs": [
        {
          "output_type": "stream",
          "name": "stdout",
          "text": [
            "Enter a value10\n",
            "10\n",
            "<class 'int'>\n"
          ]
        }
      ]
    },
    {
      "cell_type": "code",
      "source": [
        "# input function - type cast\n",
        "a = float(input(\"Enter a value\")) # input function returns all the values in string format\n",
        "print(a)\n",
        "print(type(a))"
      ],
      "metadata": {
        "colab": {
          "base_uri": "https://localhost:8080/"
        },
        "id": "wE1Al39jBuvS",
        "outputId": "0b11167a-d117-45f8-8b89-378140dc6b1c"
      },
      "execution_count": null,
      "outputs": [
        {
          "output_type": "stream",
          "name": "stdout",
          "text": [
            "Enter a value10.34\n",
            "10.34\n",
            "<class 'float'>\n"
          ]
        }
      ]
    },
    {
      "cell_type": "code",
      "source": [
        "# input function\n",
        "a = int(input(\"Enter a value\")) # input function returns all the values in string format\n",
        "print(a)\n",
        "print(type(a))"
      ],
      "metadata": {
        "colab": {
          "base_uri": "https://localhost:8080/"
        },
        "id": "5s2_x3rsB8Vp",
        "outputId": "73bb523c-5dde-4856-8990-229264f30e15"
      },
      "execution_count": null,
      "outputs": [
        {
          "output_type": "stream",
          "name": "stdout",
          "text": [
            "Enter a value10\n",
            "10\n",
            "<class 'int'>\n"
          ]
        }
      ]
    },
    {
      "cell_type": "code",
      "source": [
        "#if else statement\n",
        "a = int(input(\"Enter a value\"))\n",
        "b = int(input(\"Enter b value\"))\n",
        "\n",
        "if(a>b):\n",
        "  print(\"a is greater\")\n",
        "  print(\"if block\")\n",
        "else:\n",
        "   print(\"b is greater\")\n",
        "   print(\"else block\")\n"
      ],
      "metadata": {
        "colab": {
          "base_uri": "https://localhost:8080/"
        },
        "id": "elxHIYboCKG8",
        "outputId": "7a9005b2-6dc6-4996-920e-86e0d6fdbf21"
      },
      "execution_count": null,
      "outputs": [
        {
          "output_type": "stream",
          "name": "stdout",
          "text": [
            "Enter a value10\n",
            "Enter b value20\n",
            "b is greater\n",
            "else block\n"
          ]
        }
      ]
    },
    {
      "cell_type": "code",
      "source": [
        "# if else ladder\n",
        "s = input(\"enter a color\")\n",
        "\n",
        "if s==\"red\":\n",
        "  print(\"stop\")\n",
        "elif s==\"yellow\":\n",
        "  print(\"ready\")\n",
        "elif s==\"green\":\n",
        "  print(\"go\")\n",
        "else:\n",
        "  print(\"invalid\")"
      ],
      "metadata": {
        "colab": {
          "base_uri": "https://localhost:8080/"
        },
        "id": "fKnFcl-7DeRH",
        "outputId": "334cfff6-25f8-4c4d-a65e-3eda7fcd2b7f"
      },
      "execution_count": null,
      "outputs": [
        {
          "output_type": "stream",
          "name": "stdout",
          "text": [
            "enter a colorred\n",
            "stop\n"
          ]
        }
      ]
    },
    {
      "cell_type": "code",
      "source": [
        "#palindrome function\n",
        "a=input(\"enter a string:\")\n",
        "b=a[::-1]\n",
        "if a==b:\n",
        "  print(\"palindrome\")\n",
        "else:\n",
        "  print(\"not palindrome\")"
      ],
      "metadata": {
        "colab": {
          "base_uri": "https://localhost:8080/"
        },
        "id": "e2Di9s1iEKeC",
        "outputId": "7f998840-8ff4-40f2-83f1-5d5d29f47e31"
      },
      "execution_count": null,
      "outputs": [
        {
          "output_type": "stream",
          "name": "stdout",
          "text": [
            "enter a string:malayalam\n",
            "palindrome\n"
          ]
        }
      ]
    },
    {
      "cell_type": "code",
      "source": [
        "s=input(\"Enter a String:\");\n",
        "rev=s[len(s)::-1];\n",
        "print(rev)\n",
        "\n",
        "if(s==rev):\n",
        "    print(\"Palindrome\");\n",
        "else:\n",
        "    print(\"Not a palindrome\");"
      ],
      "metadata": {
        "colab": {
          "base_uri": "https://localhost:8080/"
        },
        "id": "w5olS97GEzoA",
        "outputId": "65af232f-d989-45a8-ff18-a885b1758d17"
      },
      "execution_count": null,
      "outputs": [
        {
          "output_type": "stream",
          "name": "stdout",
          "text": [
            "Enter a String:malayalam\n",
            "malayalam\n",
            "Palindrome\n"
          ]
        }
      ]
    },
    {
      "cell_type": "code",
      "source": [
        "#program to check the polindrome\n",
        "text = input(\"enter a string\")\n",
        "text = text.lower()\n",
        "\n",
        "revtext = text[::-1]\n",
        "\n",
        "if text == revtext:\n",
        "  print(\"palindrome\")\n",
        "else:\n",
        "  print(\"not palindrome\")"
      ],
      "metadata": {
        "colab": {
          "base_uri": "https://localhost:8080/"
        },
        "id": "XulGUBKyE4NH",
        "outputId": "7473c5aa-4e24-4c83-f5bc-cb4062d3dad6"
      },
      "execution_count": null,
      "outputs": [
        {
          "output_type": "stream",
          "name": "stdout",
          "text": [
            "enter a stringmalayalam\n",
            "palindrome\n"
          ]
        }
      ]
    },
    {
      "cell_type": "code",
      "source": [
        "#while loop\n",
        "\n",
        "i =10\n",
        "\n",
        "while i<15 :\n",
        "  print(i)\n",
        "  i = i+1\n",
        "print(\"end of while\")\n"
      ],
      "metadata": {
        "colab": {
          "base_uri": "https://localhost:8080/"
        },
        "id": "L7eG_lkyF6XU",
        "outputId": "48313dfb-d6ed-4661-b0e7-7c4b727b561f"
      },
      "execution_count": null,
      "outputs": [
        {
          "output_type": "stream",
          "name": "stdout",
          "text": [
            "10\n",
            "11\n",
            "12\n",
            "13\n",
            "14\n",
            "end of while\n"
          ]
        }
      ]
    },
    {
      "cell_type": "code",
      "source": [
        "#multiplication table\n",
        "\n",
        "num = int(input(\"Enter a number : \"))\n",
        "i = 1\n",
        "while i<=10:\n",
        "    print(i*num)\n",
        "    i = i+1"
      ],
      "metadata": {
        "colab": {
          "base_uri": "https://localhost:8080/"
        },
        "id": "PhjAjskuH8Bh",
        "outputId": "960a19a8-7ad3-4e4b-c4cd-c556acbaf52d"
      },
      "execution_count": null,
      "outputs": [
        {
          "output_type": "stream",
          "name": "stdout",
          "text": [
            "Enter a number : 10\n",
            "10\n",
            "20\n",
            "30\n",
            "40\n",
            "50\n",
            "60\n",
            "70\n",
            "80\n",
            "90\n",
            "100\n"
          ]
        }
      ]
    },
    {
      "cell_type": "code",
      "source": [
        "#multiplication table\n",
        "\n",
        "i=int(input(\"Enter a Number:\"))\n",
        "a=1\n",
        "while a<=10 :\n",
        "  b=i*a\n",
        "  print(i,\"x\",a,\"=\",b)\n",
        "  a=a+1"
      ],
      "metadata": {
        "colab": {
          "base_uri": "https://localhost:8080/"
        },
        "id": "YUQnS35bI0P0",
        "outputId": "e9bb2541-6e58-4652-dbad-d65ee732d25a"
      },
      "execution_count": null,
      "outputs": [
        {
          "output_type": "stream",
          "name": "stdout",
          "text": [
            "Enter a Number:8\n",
            "8 x 1 = 8\n",
            "8 x 2 = 16\n",
            "8 x 3 = 24\n",
            "8 x 4 = 32\n",
            "8 x 5 = 40\n",
            "8 x 6 = 48\n",
            "8 x 7 = 56\n",
            "8 x 8 = 64\n",
            "8 x 9 = 72\n",
            "8 x 10 = 80\n"
          ]
        }
      ]
    },
    {
      "cell_type": "code",
      "source": [
        "#multiplication table\n",
        "\n",
        "num = int(input(\"Enter a number : \"))\n",
        "i = 1\n",
        "while i<=10:\n",
        "    print(num, \"*\" , i , \"=\", i*num)\n",
        "    i = i+1"
      ],
      "metadata": {
        "colab": {
          "base_uri": "https://localhost:8080/"
        },
        "id": "bz2S4Nb8I8gu",
        "outputId": "8275858d-3271-49c0-9a9f-8312d3c0a0a3"
      },
      "execution_count": null,
      "outputs": [
        {
          "output_type": "stream",
          "name": "stdout",
          "text": [
            "Enter a number : 5\n",
            "5 * 1 = 5\n",
            "5 * 2 = 10\n",
            "5 * 3 = 15\n",
            "5 * 4 = 20\n",
            "5 * 5 = 25\n",
            "5 * 6 = 30\n",
            "5 * 7 = 35\n",
            "5 * 8 = 40\n",
            "5 * 9 = 45\n",
            "5 * 10 = 50\n"
          ]
        }
      ]
    },
    {
      "cell_type": "code",
      "source": [
        "# for loop\n",
        "\n",
        "s=\"john\"\n",
        "\n",
        "for i in s:\n",
        "  print(i)\n"
      ],
      "metadata": {
        "colab": {
          "base_uri": "https://localhost:8080/"
        },
        "id": "T8Q4ZA-iJPEd",
        "outputId": "fdddbf73-3358-40ba-f9b4-b1d549b7b3c7"
      },
      "execution_count": null,
      "outputs": [
        {
          "output_type": "stream",
          "name": "stdout",
          "text": [
            "j\n",
            "o\n",
            "h\n",
            "n\n"
          ]
        }
      ]
    },
    {
      "cell_type": "code",
      "source": [
        "for i in [10,20,30,40]:\n",
        "  print(i)"
      ],
      "metadata": {
        "colab": {
          "base_uri": "https://localhost:8080/"
        },
        "id": "VCCemz_9KMNg",
        "outputId": "1e2125d8-7e33-4155-a3a8-220817b0cd39"
      },
      "execution_count": null,
      "outputs": [
        {
          "output_type": "stream",
          "name": "stdout",
          "text": [
            "10\n",
            "20\n",
            "30\n",
            "40\n"
          ]
        }
      ]
    },
    {
      "cell_type": "code",
      "source": [
        "for i in (10,20,30,40):\n",
        "  print(i)"
      ],
      "metadata": {
        "colab": {
          "base_uri": "https://localhost:8080/"
        },
        "id": "1hKfc9sBKRJy",
        "outputId": "85aedc6d-8b69-4be8-8042-33424d3e901f"
      },
      "execution_count": null,
      "outputs": [
        {
          "output_type": "stream",
          "name": "stdout",
          "text": [
            "10\n",
            "20\n",
            "30\n",
            "40\n"
          ]
        }
      ]
    },
    {
      "cell_type": "code",
      "source": [
        "for i in (10,20,30,40):\n",
        "  print(i*30)"
      ],
      "metadata": {
        "colab": {
          "base_uri": "https://localhost:8080/"
        },
        "id": "W2WugFTAKWli",
        "outputId": "12d3e3ec-e896-449e-8a78-ee0d1ab30af7"
      },
      "execution_count": null,
      "outputs": [
        {
          "output_type": "stream",
          "name": "stdout",
          "text": [
            "300\n",
            "600\n",
            "900\n",
            "1200\n"
          ]
        }
      ]
    },
    {
      "cell_type": "code",
      "source": [
        "for i in (10,20,30,40):\n",
        "  print(i)\n",
        "  print(type(i))"
      ],
      "metadata": {
        "colab": {
          "base_uri": "https://localhost:8080/"
        },
        "id": "B-CCEEPqKiBh",
        "outputId": "e4bc6248-2ee6-4931-b979-7cffee50d841"
      },
      "execution_count": null,
      "outputs": [
        {
          "output_type": "stream",
          "name": "stdout",
          "text": [
            "10\n",
            "<class 'int'>\n",
            "20\n",
            "<class 'int'>\n",
            "30\n",
            "<class 'int'>\n",
            "40\n",
            "<class 'int'>\n"
          ]
        }
      ]
    },
    {
      "cell_type": "code",
      "source": [
        "for i in \"2025john\":\n",
        "  print(i)\n",
        "  print(type(i))"
      ],
      "metadata": {
        "colab": {
          "base_uri": "https://localhost:8080/"
        },
        "id": "UQnut4hVLUay",
        "outputId": "2d9b3275-ec18-4850-a9c8-e2e67061ffff"
      },
      "execution_count": null,
      "outputs": [
        {
          "output_type": "stream",
          "name": "stdout",
          "text": [
            "2\n",
            "<class 'str'>\n",
            "0\n",
            "<class 'str'>\n",
            "2\n",
            "<class 'str'>\n",
            "5\n",
            "<class 'str'>\n",
            "j\n",
            "<class 'str'>\n",
            "o\n",
            "<class 'str'>\n",
            "h\n",
            "<class 'str'>\n",
            "n\n",
            "<class 'str'>\n"
          ]
        }
      ]
    },
    {
      "cell_type": "code",
      "source": [
        "for i in [10,\"john\",20.3]:\n",
        "  print(i)\n",
        "  print(type(i))"
      ],
      "metadata": {
        "colab": {
          "base_uri": "https://localhost:8080/"
        },
        "id": "mByqyT1wLZla",
        "outputId": "ce285b06-229a-43b9-8d4b-47f804e8267d"
      },
      "execution_count": null,
      "outputs": [
        {
          "output_type": "stream",
          "name": "stdout",
          "text": [
            "10\n",
            "<class 'int'>\n",
            "john\n",
            "<class 'str'>\n",
            "20.3\n",
            "<class 'float'>\n"
          ]
        }
      ]
    },
    {
      "cell_type": "markdown",
      "source": [
        "### ***********Machine Learning journey through Python- Phase-1***********\n",
        "# *****Day 5  Practice - 04/16/2025*****"
      ],
      "metadata": {
        "id": "UtIwYWBig-fI"
      }
    },
    {
      "cell_type": "code",
      "source": [
        "#Day 5 **04/16/2025***\n",
        "\n",
        "#range(start, stop,step)\n",
        "#range function\n",
        "\n",
        "i=20\n",
        "j=30\n",
        "\n",
        "for i in range(i,j,2):\n",
        "  print(i)\n"
      ],
      "metadata": {
        "id": "h7Td-Cz0LiNf",
        "colab": {
          "base_uri": "https://localhost:8080/"
        },
        "outputId": "94dac34b-8b0b-4996-f90d-91f5cb82c50f"
      },
      "execution_count": null,
      "outputs": [
        {
          "output_type": "stream",
          "name": "stdout",
          "text": [
            "20\n",
            "22\n",
            "24\n",
            "26\n",
            "28\n"
          ]
        }
      ]
    },
    {
      "cell_type": "code",
      "source": [
        "#range function\n",
        "for i in range(0,11,2):\n",
        "  print(i)\n"
      ],
      "metadata": {
        "colab": {
          "base_uri": "https://localhost:8080/"
        },
        "id": "ZAPnSU0g-jOI",
        "outputId": "6b1c03a6-7310-400e-d7d5-3642bfca5a2f"
      },
      "execution_count": null,
      "outputs": [
        {
          "output_type": "stream",
          "name": "stdout",
          "text": [
            "0\n",
            "2\n",
            "4\n",
            "6\n",
            "8\n",
            "10\n"
          ]
        }
      ]
    },
    {
      "cell_type": "code",
      "source": [
        "#string concodination\n",
        "str1 = \"Python is\"\n",
        "str2 = \"awsome\"\n",
        "str3 = str1+str2\n",
        "print(str3)\n",
        "\n",
        "#string multiplication\n",
        "str4 = str2*4\n",
        "print(str4)"
      ],
      "metadata": {
        "colab": {
          "base_uri": "https://localhost:8080/"
        },
        "id": "Vv8S50hf-_7-",
        "outputId": "24c75bdb-d018-473d-f200-a146140e88cb"
      },
      "execution_count": null,
      "outputs": [
        {
          "output_type": "stream",
          "name": "stdout",
          "text": [
            "Python isawsome\n",
            "awsomeawsomeawsomeawsome\n"
          ]
        }
      ]
    },
    {
      "cell_type": "code",
      "source": [
        "#Both string and tuple are immutable (unable to change )\n",
        "\n",
        "s1 = \"NTT\"\n",
        "s2 = \"DATA\"\n",
        "s3 = s1+s2\n",
        "print(s3)\n",
        "s4 = s2*4\n",
        "print(s4)\n",
        "\n",
        "#s2[0]=\"d\" #getting error since unable to change it"
      ],
      "metadata": {
        "id": "MFGlYfesAMFV",
        "colab": {
          "base_uri": "https://localhost:8080/"
        },
        "outputId": "0b49fc43-0d63-41d3-99a9-d68f01ee3623"
      },
      "execution_count": null,
      "outputs": [
        {
          "output_type": "stream",
          "name": "stdout",
          "text": [
            "NTTDATA\n",
            "DATADATADATADATA\n"
          ]
        }
      ]
    },
    {
      "cell_type": "code",
      "source": [
        "l = [10,20.3,\"NTT\",3+4j]  # need to ask doubt from siva\n",
        "print(l)\n",
        "print(type(l))"
      ],
      "metadata": {
        "colab": {
          "base_uri": "https://localhost:8080/"
        },
        "id": "Xn0VuGObUOXF",
        "outputId": "ec3bada5-3438-4dad-ee4d-b02efc325c18"
      },
      "execution_count": null,
      "outputs": [
        {
          "output_type": "stream",
          "name": "stdout",
          "text": [
            "[10, 20.3, 'NTT', (3+4j)]\n",
            "<class 'list'>\n"
          ]
        }
      ]
    },
    {
      "cell_type": "code",
      "source": [
        "# String Deletion\n",
        "s1 = \"NTT\"\n",
        "print (s1)\n",
        "\n",
        "#s1=\"\"\n",
        "\n",
        "#del s1\n",
        "#print(s1) # getting error since its deleted\n"
      ],
      "metadata": {
        "colab": {
          "base_uri": "https://localhost:8080/"
        },
        "id": "_RPEaum3A4tZ",
        "outputId": "7c647989-c5ae-46cd-842b-91fc6cb6eedd"
      },
      "execution_count": null,
      "outputs": [
        {
          "output_type": "stream",
          "name": "stdout",
          "text": [
            "NTT\n",
            "\n"
          ]
        }
      ]
    },
    {
      "cell_type": "code",
      "source": [
        "#length of the string\n",
        "\n",
        "str1=input(\"Enter the string:\")\n",
        "counter = 0\n",
        "for char in str1:\n",
        "  counter+=1\n",
        "  print('Length of string:',counter)"
      ],
      "metadata": {
        "colab": {
          "base_uri": "https://localhost:8080/"
        },
        "id": "6JYbwqfO_4UJ",
        "outputId": "f5b9d973-e3fb-46f1-fb7f-857eb4cc0fbd"
      },
      "execution_count": null,
      "outputs": [
        {
          "output_type": "stream",
          "name": "stdout",
          "text": [
            "Enter the string:robert\n",
            "Length of string: 1\n",
            "Length of string: 2\n",
            "Length of string: 3\n",
            "Length of string: 4\n",
            "Length of string: 5\n",
            "Length of string: 6\n"
          ]
        }
      ]
    },
    {
      "cell_type": "code",
      "source": [
        "#Length of the string\n",
        "s=input(\"Enter a string\")\n",
        "c=0\n",
        "for i in s:\n",
        "  c=c+1\n",
        "print(\"Length = \",c)\n"
      ],
      "metadata": {
        "colab": {
          "base_uri": "https://localhost:8080/"
        },
        "id": "k49a05tzBqSR",
        "outputId": "edd4ad69-4c86-4dc2-c8b9-515ed1d62855"
      },
      "execution_count": null,
      "outputs": [
        {
          "output_type": "stream",
          "name": "stdout",
          "text": [
            "Enter a stringbangalore\n",
            "Length =  9\n"
          ]
        }
      ]
    },
    {
      "cell_type": "code",
      "source": [
        "#Length of the string\n",
        "s=input(\"Enter a string\")\n",
        "c=0\n",
        "for i in s:   # in -> is the membership operator\n",
        "  c=c+1\n",
        "print(\"Length = \",c)\n",
        "\n",
        "#use len function\n",
        "print(len(s))"
      ],
      "metadata": {
        "colab": {
          "base_uri": "https://localhost:8080/"
        },
        "id": "OLzGTd8_CDYV",
        "outputId": "940de127-4cde-44c0-bc28-16e38eb4b677"
      },
      "execution_count": null,
      "outputs": [
        {
          "output_type": "stream",
          "name": "stdout",
          "text": [
            "Enter a stringrobert\n",
            "Length =  6\n",
            "6\n"
          ]
        }
      ]
    },
    {
      "cell_type": "code",
      "source": [
        "#membership operator\n",
        "\n",
        "if \"a\" in \"apple\":\n",
        "  print(\"yes\")\n",
        "else:\n",
        "  print(\"no\")\n"
      ],
      "metadata": {
        "colab": {
          "base_uri": "https://localhost:8080/"
        },
        "id": "MMPTwuHICUmm",
        "outputId": "caa4c613-667d-43ca-ed88-8f00f973d7d8"
      },
      "execution_count": null,
      "outputs": [
        {
          "output_type": "stream",
          "name": "stdout",
          "text": [
            "yes\n"
          ]
        }
      ]
    },
    {
      "cell_type": "code",
      "source": [
        "#methods\n",
        "#string.count(substring,start,end)\n",
        "\n",
        "#count method\n",
        "main_string = input(\"Enter a string \")\n",
        "sub_string = input(\"Enter a sub string \")\n",
        "\n",
        "c = main_string.count(sub_string)\n",
        "print(c)\n",
        "\n"
      ],
      "metadata": {
        "colab": {
          "base_uri": "https://localhost:8080/"
        },
        "id": "Q-6lk6WnCtho",
        "outputId": "ed837377-7a03-4147-87a2-a0a9ebdbc803"
      },
      "execution_count": null,
      "outputs": [
        {
          "output_type": "stream",
          "name": "stdout",
          "text": [
            "Enter a string welcome come come\n",
            "Enter a sub string come\n",
            "3\n"
          ]
        }
      ]
    },
    {
      "cell_type": "code",
      "source": [
        "#finding the substring within the range\n",
        "main_string = input(\"Enter a string \")\n",
        "sub_string = input(\"Enter a sub string \")\n",
        "\n",
        "c = main_string.count(sub_string,0,3)\n",
        "print(c)"
      ],
      "metadata": {
        "colab": {
          "base_uri": "https://localhost:8080/"
        },
        "id": "3qXJ66EQEE7Q",
        "outputId": "fd3002f6-ec12-4e91-a4b6-ed31d3780c76"
      },
      "execution_count": null,
      "outputs": [
        {
          "output_type": "stream",
          "name": "stdout",
          "text": [
            "Enter a string welcome come come\n",
            "Enter a sub string e\n",
            "1\n"
          ]
        }
      ]
    },
    {
      "cell_type": "code",
      "source": [
        "#startswith()\n",
        "\n",
        "#string.startswith(prefix,start,end)\n",
        "\n",
        "mobno = input(\"Enter you mob no with country code \")\n",
        "\n",
        "if mobno.startswith(\"+91\"):\n",
        "  print(\"India\")\n",
        "elif mobno.startswith(\"+1\"):\n",
        "  print(\"USA\")"
      ],
      "metadata": {
        "colab": {
          "base_uri": "https://localhost:8080/"
        },
        "id": "2koPSzuqEaMR",
        "outputId": "c19cb612-bbd8-44d6-caf2-30bf40b3fb44"
      },
      "execution_count": null,
      "outputs": [
        {
          "output_type": "stream",
          "name": "stdout",
          "text": [
            "Enter you mob no with country code +919944278748\n",
            "India\n"
          ]
        }
      ]
    },
    {
      "cell_type": "code",
      "source": [
        "#endswith\n",
        "\n",
        "url = input(\"Enter a URL: \")\n",
        "if url.endswith('.edu'):\n",
        "  print(\"Educational website\")\n",
        "elif url.endswith('.com'):\n",
        "  print(\"Commercial website\")"
      ],
      "metadata": {
        "colab": {
          "base_uri": "https://localhost:8080/"
        },
        "id": "S7Oe8qI9F5_s",
        "outputId": "3382aef8-4f44-4aaa-9ea4-6f63f7e80df1"
      },
      "execution_count": null,
      "outputs": [
        {
          "output_type": "stream",
          "name": "stdout",
          "text": [
            "Enter a URL: www.ntt.edu\n",
            "Educational website\n"
          ]
        }
      ]
    },
    {
      "cell_type": "code",
      "source": [
        "#Removing leading and trailing characters\n",
        "\n",
        "#1)lstrip()\n",
        "#2)rstrip()\n",
        "#3)strip()\n",
        "\n",
        "#string.lstrip(characters)\n",
        "\n",
        "#lstrip method - remove the unnecessary space\n",
        "\n",
        "name = input(\"Enter your name : \")\n",
        "print(name)\n",
        "name = name.lstrip()\n",
        "print(name)\n"
      ],
      "metadata": {
        "colab": {
          "base_uri": "https://localhost:8080/"
        },
        "id": "VRArq-c4Gp2F",
        "outputId": "28218898-ab9c-4b39-8dc2-0aba15f30bb4"
      },
      "execution_count": null,
      "outputs": [
        {
          "output_type": "stream",
          "name": "stdout",
          "text": [
            "Enter your name :           arjith\n",
            "          arjith\n",
            "arjith\n"
          ]
        }
      ]
    },
    {
      "cell_type": "code",
      "source": [
        "# lstrip() - remove the substring\n",
        "\n",
        "url = [\"http://www.myntra.com\",\"http://www.ajio.com\",\"http://www.cricbuzz.com\"]\n",
        "\n",
        "for i in url:\n",
        "  i = i.lstrip(\"http://www.\")\n",
        "  print(i)"
      ],
      "metadata": {
        "colab": {
          "base_uri": "https://localhost:8080/"
        },
        "id": "0V6SMbcEHljQ",
        "outputId": "b883641e-bf59-43e7-97b1-e7a4bb26d349"
      },
      "execution_count": null,
      "outputs": [
        {
          "output_type": "stream",
          "name": "stdout",
          "text": [
            "myntra.com\n",
            "ajio.com\n",
            "cricbuzz.com\n"
          ]
        }
      ]
    },
    {
      "cell_type": "code",
      "source": [
        "# lstrip() - remove the substring\n",
        "\n",
        "url = [\"http://www.myntra.com\",\"http://www.ajio.com\",\"http://www.cricbuzz.com\"]\n",
        "\n",
        "for i in url:\n",
        "  #i = i.lstrip(\"http://www.\")\n",
        "  i = i.lstrip(\"htp:/w.\") # character wise match, so it removed\n",
        "  print(i)"
      ],
      "metadata": {
        "colab": {
          "base_uri": "https://localhost:8080/"
        },
        "id": "_Wz0wDh5IiOf",
        "outputId": "605c8117-1c6a-43a2-c794-d74320bedf26"
      },
      "execution_count": null,
      "outputs": [
        {
          "output_type": "stream",
          "name": "stdout",
          "text": [
            "myntra.com\n",
            "ajio.com\n",
            "cricbuzz.com\n"
          ]
        }
      ]
    },
    {
      "cell_type": "code",
      "source": [
        "# lstrip() - remove the substring\n",
        "\n",
        "url = [\"http://www.myntra.com\",\"http://www.ajio.com\",\"http://www.cricbuzz.com\"]\n",
        "\n",
        "for i in url:\n",
        "  #i = i.lstrip(\"http://www.\")\n",
        "  #i = i.lstrip(\"htp:/w.\") # character wise match, so it removed\n",
        "  #i = i.lstrip(\"htp\")\n",
        "  #i = i.lstrip(\"hp\") # only first h only removed\n",
        "  i = i.lstrip(\"htp/\") #only http is removed (once there is mismatch iteration will stop)\n",
        "  #i = i.lstrip(\"tph\")\n",
        "  print(i)"
      ],
      "metadata": {
        "colab": {
          "base_uri": "https://localhost:8080/"
        },
        "id": "1ng4zzhiKP4h",
        "outputId": "204b627c-c57d-4569-d0f2-14d895e6bc67"
      },
      "execution_count": null,
      "outputs": [
        {
          "output_type": "stream",
          "name": "stdout",
          "text": [
            "://www.myntra.com\n",
            "://www.ajio.com\n",
            "://www.cricbuzz.com\n"
          ]
        }
      ]
    },
    {
      "cell_type": "code",
      "source": [
        "\n",
        "url = [\"http://www.myntra.com\",\"http://www.ajio.com\",\"http://www.cricbuzz.com\",\"http://www.amazon.com\"]\n",
        "\n",
        "for i in url:\n",
        "  #i=i.rstrip('htp.com') # from right side each character will check till mismatch character\n",
        "  i=i.rstrip('htp.cmo') # same output\n",
        "  #i=i.rstrip('.com') # same output\n",
        "  print(i)"
      ],
      "metadata": {
        "colab": {
          "base_uri": "https://localhost:8080/"
        },
        "id": "f5NGg1_KL7B3",
        "outputId": "918aec4d-7ad1-469f-ca11-1fe4bf6121be"
      },
      "execution_count": null,
      "outputs": [
        {
          "output_type": "stream",
          "name": "stdout",
          "text": [
            "http://www.myntra\n",
            "http://www.aji\n",
            "http://www.cricbuzz\n",
            "http://www.amazon\n"
          ]
        }
      ]
    },
    {
      "cell_type": "code",
      "source": [
        "#strip() function\n",
        "\n",
        "url = [\"http://www.myntra.com\",\"http://www.ajio.com\",\"http://www.cricbuzz.com\",\"http://www.amazon.com\"]\n",
        "\n",
        "for i in url:\n",
        "  i=i.strip('htp.coma') # from both side each character will check till mismatch character\n",
        "  print(i)"
      ],
      "metadata": {
        "colab": {
          "base_uri": "https://localhost:8080/"
        },
        "id": "9XOH9AN6N0Bq",
        "outputId": "05ec3fe6-c266-45b9-8f44-345b51b3a636"
      },
      "execution_count": null,
      "outputs": [
        {
          "output_type": "stream",
          "name": "stdout",
          "text": [
            "://www.myntr\n",
            "://www.aji\n",
            "://www.cricbuzz\n",
            "://www.amazon\n"
          ]
        }
      ]
    },
    {
      "cell_type": "code",
      "source": [
        "# Comparision operator (==,!=,>,<,>=,<=)\n",
        "\n",
        "#Ascii values\n",
        "print(ord('a'))\n",
        "print(ord('A'))\n",
        "print(ord('c'))\n",
        "print(ord('D'))"
      ],
      "metadata": {
        "colab": {
          "base_uri": "https://localhost:8080/"
        },
        "id": "kSRDsMV6M9PE",
        "outputId": "daa30edc-1bc7-47e4-a5b2-0821f85ad397"
      },
      "execution_count": null,
      "outputs": [
        {
          "output_type": "stream",
          "name": "stdout",
          "text": [
            "97\n",
            "65\n",
            "99\n",
            "68\n"
          ]
        }
      ]
    },
    {
      "cell_type": "code",
      "source": [
        "s1=\"AAnand\"\n",
        "s2 = \"ABhijith\"\n",
        "\n",
        "if(s1>s2):\n",
        "  print(\"s1 is greater\")\n",
        "else:\n",
        "  print(\"s2 is grater\")\n"
      ],
      "metadata": {
        "colab": {
          "base_uri": "https://localhost:8080/"
        },
        "id": "jCVzApKNQm3A",
        "outputId": "1688088a-3d96-4f58-8c46-26d1c75efcfc"
      },
      "execution_count": null,
      "outputs": [
        {
          "output_type": "stream",
          "name": "stdout",
          "text": [
            "s2 is grater\n"
          ]
        }
      ]
    },
    {
      "cell_type": "code",
      "source": [
        "s1=\"AAnand\"\n",
        "s2 = \"ABhijith\"\n",
        "\n",
        "if(s1!=s2):\n",
        "  print(\"s1 is greater\")\n",
        "else:\n",
        "  print(\"s2 is grater\")"
      ],
      "metadata": {
        "colab": {
          "base_uri": "https://localhost:8080/"
        },
        "id": "h6Bj3Z6rRBQP",
        "outputId": "a621ff47-53cc-4700-bdbc-bf9c27351ecb"
      },
      "execution_count": null,
      "outputs": [
        {
          "output_type": "stream",
          "name": "stdout",
          "text": [
            "s1 is greater\n"
          ]
        }
      ]
    },
    {
      "cell_type": "code",
      "source": [
        "#replace() method\n",
        "\n",
        "#string.replace(old_value,new_value,count) # count - how many times - its optional\n",
        "\n",
        "s1 = \"I live in mumbai, Mumbai is a beautiful place\"\n",
        "\n",
        "s1.replace(\"Mumbai\",\"Bangalore\")\n",
        "\n"
      ],
      "metadata": {
        "colab": {
          "base_uri": "https://localhost:8080/",
          "height": 36
        },
        "id": "HhxGLkZfRGaI",
        "outputId": "911c8b49-1e1b-42fe-e220-fa8624d46e18"
      },
      "execution_count": null,
      "outputs": [
        {
          "output_type": "execute_result",
          "data": {
            "text/plain": [
              "'I live in mumbai, Bangalore is a beautiful place'"
            ],
            "application/vnd.google.colaboratory.intrinsic+json": {
              "type": "string"
            }
          },
          "metadata": {},
          "execution_count": 39
        }
      ]
    },
    {
      "cell_type": "code",
      "source": [
        "#replace() method\n",
        "\n",
        "#string.replace(old_value,new_value,count) # count - how many times - its optional\n",
        "\n",
        "s1 = \"I live in Mumbai, Mumbai is a beautiful place\"\n",
        "\n",
        "s1.replace(\"Mumbai\",\"Bangalore\",1) #replace only one occurance since its 1"
      ],
      "metadata": {
        "colab": {
          "base_uri": "https://localhost:8080/",
          "height": 36
        },
        "id": "0ERoLXVOR4H5",
        "outputId": "0acbe1b9-f52a-4e3a-e95c-48c305a80a87"
      },
      "execution_count": null,
      "outputs": [
        {
          "output_type": "execute_result",
          "data": {
            "text/plain": [
              "'I live in Bangalore, Mumbai is a beautiful place'"
            ],
            "application/vnd.google.colaboratory.intrinsic+json": {
              "type": "string"
            }
          },
          "metadata": {},
          "execution_count": 43
        }
      ]
    },
    {
      "cell_type": "code",
      "source": [
        "#find() method\n",
        "\n",
        "#string.find(substring,start,end)\n",
        "\n",
        "s1 = \"I live in Mumbai, Mumbai is a beautiful place\"\n",
        "\n",
        "res = s1.find(\"Mumbai\")\n",
        "print(res)\n",
        "\n",
        "\n",
        "\n"
      ],
      "metadata": {
        "colab": {
          "base_uri": "https://localhost:8080/"
        },
        "id": "-P5RMsAwR_7r",
        "outputId": "5e858186-9ba3-4316-cd80-2ba68cf6edfa"
      },
      "execution_count": null,
      "outputs": [
        {
          "output_type": "stream",
          "name": "stdout",
          "text": [
            "10\n"
          ]
        }
      ]
    },
    {
      "cell_type": "code",
      "source": [
        "#how many times \"Mumbai\" having\n",
        "\n",
        "s1 = \"\"\"I live in Mumbai, Mumbai is a beautiful place\n",
        "        I live in Mumbai, Mumbai is a beautiful place\n",
        "        I live in Mumbai, Mumbai is a beautiful place \"\"\"\n",
        "\n",
        "s1.count('Mumbai')"
      ],
      "metadata": {
        "colab": {
          "base_uri": "https://localhost:8080/"
        },
        "id": "C7dP05pzS6B3",
        "outputId": "b3b4a245-c742-444a-e98b-684445d3a095"
      },
      "execution_count": null,
      "outputs": [
        {
          "output_type": "execute_result",
          "data": {
            "text/plain": [
              "6"
            ]
          },
          "metadata": {},
          "execution_count": 48
        }
      ]
    },
    {
      "cell_type": "code",
      "source": [
        "#rfind() method - finding the occurance from the last\n",
        "\n",
        "s1 = \"I live in Mumbai , Mumbai is a beautiful place\"\n",
        "\n",
        "res = s1.rfind(\"Mumbai\")\n",
        "print(res)\n",
        "\n"
      ],
      "metadata": {
        "colab": {
          "base_uri": "https://localhost:8080/"
        },
        "id": "n35wvEt1TFvE",
        "outputId": "fa675fab-1137-47c5-b136-650311e94bcd"
      },
      "execution_count": null,
      "outputs": [
        {
          "output_type": "stream",
          "name": "stdout",
          "text": [
            "19\n"
          ]
        }
      ]
    },
    {
      "cell_type": "code",
      "source": [
        "#split()  method -\n",
        "\n",
        "#string.split(separator,maxsplit)\n",
        "\n",
        "s = \" I live in mumbai \"\n",
        "k=s.split() # return in list based on space\n",
        "print(k)\n",
        "\n",
        "print (k[3])\n",
        "\n",
        "\n"
      ],
      "metadata": {
        "colab": {
          "base_uri": "https://localhost:8080/"
        },
        "id": "fr45LHv-TZCF",
        "outputId": "067286a7-e892-463e-a107-24cbaa936be1"
      },
      "execution_count": null,
      "outputs": [
        {
          "output_type": "stream",
          "name": "stdout",
          "text": [
            "['I', 'live', 'in', 'mumbai']\n",
            "mumbai\n"
          ]
        }
      ]
    },
    {
      "cell_type": "code",
      "source": [
        "\n",
        "w=\"india,usa,australia\"\n",
        "k=w.split(',') # return in list based on comma (,)\n",
        "#k=w.split('i') # return in list based on comma (i)\n",
        "print(k)"
      ],
      "metadata": {
        "colab": {
          "base_uri": "https://localhost:8080/"
        },
        "id": "C81Lj4PiUbv2",
        "outputId": "bcb39cf1-f721-4bdd-b07e-64d450ff5ab3"
      },
      "execution_count": null,
      "outputs": [
        {
          "output_type": "stream",
          "name": "stdout",
          "text": [
            "['india', 'usa', 'australia']\n"
          ]
        }
      ]
    },
    {
      "cell_type": "code",
      "source": [
        "a =\"i live in Mumbai, Mumbai is a place\"\n",
        "b=a.count(\"Mumbai\")\n",
        "print(b)\n"
      ],
      "metadata": {
        "colab": {
          "base_uri": "https://localhost:8080/"
        },
        "id": "h-CesdSaVGo9",
        "outputId": "4650f53c-bd68-4685-81c5-2b793d97ad6b"
      },
      "execution_count": null,
      "outputs": [
        {
          "output_type": "stream",
          "name": "stdout",
          "text": [
            "2\n"
          ]
        }
      ]
    },
    {
      "cell_type": "markdown",
      "source": [
        "### ***********Machine Learning journey through Python- Phase-1***********\n",
        "# *****Day 6  Practice - 04/21/2025*****"
      ],
      "metadata": {
        "id": "_2A9eheihKks"
      }
    },
    {
      "cell_type": "code",
      "source": [
        "#String\n",
        "\n",
        "#list\n",
        "\n",
        "l1 = [10,20,3.14,\"NTT Data\",2+3j,[100,200,300]]\n",
        "\n",
        "print (l1)\n",
        "print (type(l1))\n",
        "\n",
        "print (l1[0],l1[-2])\n"
      ],
      "metadata": {
        "id": "9UndfD2ghPgY",
        "colab": {
          "base_uri": "https://localhost:8080/"
        },
        "outputId": "2212fd87-67b0-4e26-ea99-ec1b9580dfc3"
      },
      "execution_count": null,
      "outputs": [
        {
          "output_type": "stream",
          "name": "stdout",
          "text": [
            "[10, 20, 3.14, 'NTT Data', (2+3j), [100, 200, 300]]\n",
            "<class 'list'>\n",
            "10 (2+3j)\n"
          ]
        }
      ]
    },
    {
      "cell_type": "code",
      "source": [
        "# Slicing in list\n",
        "\n",
        "l1 = [10,20,3.14,\"NTT Data\",2+3j,[100,200,300]]\n",
        "\n",
        "print(l1[0:4:])\n",
        "print(l1[0:5:3])\n",
        "print(l1[::])\n",
        "print(l1[::-1])"
      ],
      "metadata": {
        "colab": {
          "base_uri": "https://localhost:8080/"
        },
        "id": "LPingPJJyyEV",
        "outputId": "817f5455-84ac-46f0-de74-a1f29536c791"
      },
      "execution_count": null,
      "outputs": [
        {
          "output_type": "stream",
          "name": "stdout",
          "text": [
            "[10, 20, 3.14, 'NTT Data']\n",
            "[10, 'NTT Data']\n",
            "[10, 20, 3.14, 'NTT Data', (2+3j), [100, 200, 300]]\n",
            "[[100, 200, 300], (2+3j), 'NTT Data', 3.14, 20, 10]\n"
          ]
        }
      ]
    },
    {
      "cell_type": "code",
      "source": [
        "#concatenation of list\n",
        "\n",
        "l1=[10,20,34]\n",
        "l2=[50,60,70]\n",
        "\n",
        "l3 = l1+l2\n",
        "\n",
        "print(l1)\n",
        "print(l2)\n",
        "print (l3)\n",
        "\n",
        "print(id(l1))\n",
        "print(id(l2))\n",
        "print(id(l3))\n"
      ],
      "metadata": {
        "colab": {
          "base_uri": "https://localhost:8080/"
        },
        "id": "J-JqzN28z4pI",
        "outputId": "19b9c05e-588f-4166-f401-eae6d07a49a3"
      },
      "execution_count": null,
      "outputs": [
        {
          "output_type": "stream",
          "name": "stdout",
          "text": [
            "[10, 20, 34]\n",
            "[50, 60, 70]\n",
            "[10, 20, 34, 50, 60, 70]\n",
            "134974321743808\n",
            "134974321749120\n",
            "134974321753856\n"
          ]
        }
      ]
    },
    {
      "cell_type": "code",
      "source": [
        "#Multiplication of list\n",
        "\n",
        "l1 = [10,20,30]\n",
        "l2 = l1*3\n",
        "print(l2)\n",
        "print(l1*3)"
      ],
      "metadata": {
        "colab": {
          "base_uri": "https://localhost:8080/"
        },
        "id": "W59gwgwA1AHK",
        "outputId": "b32b1428-926b-4c1d-ba02-40918046dc1f"
      },
      "execution_count": null,
      "outputs": [
        {
          "output_type": "stream",
          "name": "stdout",
          "text": [
            "[10, 20, 30, 10, 20, 30, 10, 20, 30]\n",
            "[10, 20, 30, 10, 20, 30, 10, 20, 30]\n"
          ]
        }
      ]
    },
    {
      "cell_type": "code",
      "source": [
        "#iteration of list\n",
        "\n",
        "l1=[10,20,30,40,50]\n",
        "\n",
        "for i in l1:\n",
        "  print(i)"
      ],
      "metadata": {
        "colab": {
          "base_uri": "https://localhost:8080/"
        },
        "id": "BNO1a5Mr1bZd",
        "outputId": "0e6c20dc-4cb0-42a0-92e5-ea308ee1942a"
      },
      "execution_count": null,
      "outputs": [
        {
          "output_type": "stream",
          "name": "stdout",
          "text": [
            "10\n",
            "20\n",
            "30\n",
            "40\n",
            "50\n"
          ]
        }
      ]
    },
    {
      "cell_type": "code",
      "source": [
        "l1=[10,20,30,40,50]\n",
        "\n",
        "for i in l1:\n",
        "  print(i+5)"
      ],
      "metadata": {
        "colab": {
          "base_uri": "https://localhost:8080/"
        },
        "id": "xveWbG9C1uHY",
        "outputId": "1af13d39-ab95-491d-e055-ed15dfaafa41"
      },
      "execution_count": null,
      "outputs": [
        {
          "output_type": "stream",
          "name": "stdout",
          "text": [
            "15\n",
            "25\n",
            "35\n",
            "45\n",
            "55\n"
          ]
        }
      ]
    },
    {
      "cell_type": "code",
      "source": [
        "#l1=[10,20,30,40,50]\n",
        "\n",
        "for i in [10,20,30,40,50]:\n",
        "  print(i+5)"
      ],
      "metadata": {
        "colab": {
          "base_uri": "https://localhost:8080/"
        },
        "id": "Zf78JMiw1yeX",
        "outputId": "700299f4-0196-4ebc-8907-525b718ea3c6"
      },
      "execution_count": null,
      "outputs": [
        {
          "output_type": "stream",
          "name": "stdout",
          "text": [
            "15\n",
            "25\n",
            "35\n",
            "45\n",
            "55\n"
          ]
        }
      ]
    },
    {
      "cell_type": "code",
      "source": [
        "#Membership operator - Returns boolien operator\n",
        "\n",
        "print(10 in [10,20,30,40])\n",
        "print(100 in [10,20,30,40])"
      ],
      "metadata": {
        "colab": {
          "base_uri": "https://localhost:8080/"
        },
        "id": "LNVl3a0J14wD",
        "outputId": "555a6876-906c-409d-8925-b0403c3a0ae4"
      },
      "execution_count": null,
      "outputs": [
        {
          "output_type": "stream",
          "name": "stdout",
          "text": [
            "True\n",
            "False\n"
          ]
        }
      ]
    },
    {
      "cell_type": "code",
      "source": [
        "print(100 not in [10,20,30,40])\n",
        "print(100 not in [100,20,30,40])"
      ],
      "metadata": {
        "colab": {
          "base_uri": "https://localhost:8080/"
        },
        "id": "7_oyCTUS2Ou-",
        "outputId": "9c55d86c-8d8f-4ef0-d99c-19a8cca5d7b3"
      },
      "execution_count": null,
      "outputs": [
        {
          "output_type": "stream",
          "name": "stdout",
          "text": [
            "True\n",
            "False\n"
          ]
        }
      ]
    },
    {
      "cell_type": "code",
      "source": [],
      "metadata": {
        "id": "jcEA9wcI2e5I"
      },
      "execution_count": null,
      "outputs": []
    },
    {
      "cell_type": "code",
      "source": [
        "#Deletion of a list\n",
        "l1 = [10,20,30,40]\n",
        "\n",
        "print(l1)\n",
        "\n",
        "del l1\n",
        "\n",
        "#print(l1)\n"
      ],
      "metadata": {
        "colab": {
          "base_uri": "https://localhost:8080/"
        },
        "id": "XdapFZGi2Wr-",
        "outputId": "0793c6cf-54ce-4acf-c682-1d3744db8467"
      },
      "execution_count": null,
      "outputs": [
        {
          "output_type": "stream",
          "name": "stdout",
          "text": [
            "[10, 20, 30, 40]\n"
          ]
        }
      ]
    },
    {
      "cell_type": "code",
      "source": [
        "# inbuilt functions\n",
        "\n",
        "#max()\n",
        "\n",
        "l1 = [10,200,3,500,80]\n",
        "print(max(l1))\n",
        "\n",
        "l2 = [\"aaa\",\"bbbb\",\"ccc\"]\n",
        "print(max(l2))\n",
        "\n",
        "l3 = [10,20,\"nttdata\"]  # when we have mix elements max will not work\n",
        "#print(max(l3))"
      ],
      "metadata": {
        "colab": {
          "base_uri": "https://localhost:8080/"
        },
        "id": "g6swWRFY3lC9",
        "outputId": "36cb7954-29c8-4646-c192-b7c45aa6c280"
      },
      "execution_count": null,
      "outputs": [
        {
          "output_type": "stream",
          "name": "stdout",
          "text": [
            "500\n",
            "ccc\n"
          ]
        }
      ]
    },
    {
      "cell_type": "code",
      "source": [
        "#max(iterable,key,default)\n",
        "\n",
        "l4 = [\"aaa\",\"bbbb\",\"ccccccc\"]\n",
        "print(max(l4,key=len))  # based on the len it will return , key - what basis need to work\n",
        "\n",
        "l5 = []\n",
        "#print(max(l5)) # it will get error since there is no elements in the list\n",
        "\n",
        "l5 = []\n",
        "print(max(l5,default=10)) # to avoid error\n",
        "\n"
      ],
      "metadata": {
        "colab": {
          "base_uri": "https://localhost:8080/"
        },
        "id": "wA2EAnht4tOW",
        "outputId": "7c223564-089c-4497-e1f3-b31e12da75e3"
      },
      "execution_count": null,
      "outputs": [
        {
          "output_type": "stream",
          "name": "stdout",
          "text": [
            "ccccccc\n",
            "10\n"
          ]
        }
      ]
    },
    {
      "cell_type": "code",
      "source": [
        "#list append()\n",
        "\n",
        "l1 = [10,20,30,40]\n",
        "\n",
        "l1.append(50) # to append the element\n",
        "l1.append(60)\n",
        "l1.append(70)\n",
        "l1.append(5)\n",
        "l1.append([1,2,3])\n",
        "l1.append(\"NTT\")\n",
        "print(l1)\n",
        "\n"
      ],
      "metadata": {
        "colab": {
          "base_uri": "https://localhost:8080/"
        },
        "id": "82Qyhcl75zPl",
        "outputId": "c7b5a5f1-8733-4165-8ce6-cbb272756add"
      },
      "execution_count": null,
      "outputs": [
        {
          "output_type": "stream",
          "name": "stdout",
          "text": [
            "[10, 20, 30, 40, 50, 60, 70, 5, [1, 2, 3], 'NTT']\n"
          ]
        }
      ]
    },
    {
      "cell_type": "code",
      "source": [
        "# task - need to add 6 elements using for loop in the existing list [10,20]\n",
        "\n",
        "list = [10, 20]\n",
        "for i in range(6):\n",
        "  num = int(input(\"Enter a number : \"))\n",
        "  list.append(num)\n",
        "print(list)"
      ],
      "metadata": {
        "colab": {
          "base_uri": "https://localhost:8080/"
        },
        "id": "JidPn_m_7bFb",
        "outputId": "fd151622-fd6a-47ae-e1f9-848be2f38c3c"
      },
      "execution_count": null,
      "outputs": [
        {
          "output_type": "stream",
          "name": "stdout",
          "text": [
            "Enter a number : 5\n",
            "Enter a number : 10\n",
            "Enter a number : 34\n",
            "Enter a number : 56\n",
            "Enter a number : 7\n",
            "Enter a number : 8\n",
            "[10, 20, 5, 10, 34, 56, 7, 8]\n"
          ]
        }
      ]
    },
    {
      "cell_type": "code",
      "source": [
        "l1 = [10, 20]\n",
        "\n",
        "print(l1)\n",
        "\n",
        "appendNumber = int(input('How many number you want append to the list: '))\n",
        "\n",
        "for i in range(appendNumber):\n",
        "  l1.append(i*10)\n",
        "\n",
        "print(l1)"
      ],
      "metadata": {
        "id": "cmbZhB3w8jSK"
      },
      "execution_count": null,
      "outputs": []
    },
    {
      "cell_type": "code",
      "source": [
        "l1 = [1,2,3,4]\n",
        "\n",
        "count = 1\n",
        "while count <= 6:\n",
        "  element = input(\"Enter element\")\n",
        "  l1.append(element)\n",
        "  count +=1\n",
        "\n",
        "print(l1)"
      ],
      "metadata": {
        "id": "dR8RPBHD8l0B"
      },
      "execution_count": null,
      "outputs": []
    },
    {
      "cell_type": "code",
      "source": [
        "l1=[10,20]\n",
        "\n",
        "for i in range(6):\n",
        "    i=int(input(\"Enter the element\"))\n",
        "    l1.append(i)\n",
        "print(l1)"
      ],
      "metadata": {
        "id": "O7Yk4SSU8s5K"
      },
      "execution_count": null,
      "outputs": []
    },
    {
      "cell_type": "code",
      "source": [
        "list = []\n",
        "for i in range(6):\n",
        "  num = int(input(\"Enter a number : \"))\n",
        "  list.append(num)\n",
        "print(list)"
      ],
      "metadata": {
        "colab": {
          "base_uri": "https://localhost:8080/"
        },
        "id": "dKiv8ZFk8ztS",
        "outputId": "20eeeebe-12c5-45f1-c379-afd5f7c22a8f"
      },
      "execution_count": null,
      "outputs": [
        {
          "output_type": "stream",
          "name": "stdout",
          "text": [
            "Enter a number : 10\n",
            "Enter a number : 20\n",
            "Enter a number : 30\n",
            "Enter a number : 40\n",
            "Enter a number : 50\n",
            "Enter a number : 60\n",
            "[10, 20, 30, 40, 50, 60]\n"
          ]
        }
      ]
    },
    {
      "cell_type": "code",
      "source": [
        "l1 = [10,20,30]\n",
        "count = input('How many variables you want to list : ')\n",
        "for i in range(int(count)):\n",
        "    l1.append(int(input(\"enter the variable : \")))\n",
        "\n",
        "print(l1)"
      ],
      "metadata": {
        "id": "g5yiUOfB9LGr"
      },
      "execution_count": null,
      "outputs": []
    },
    {
      "cell_type": "code",
      "source": [
        "li =[10, 20]\n",
        "\n",
        "counter = 0\n",
        "\n",
        "limit = 5\n",
        "while counter < limit:\n",
        "  print(\"Loop finished!\")\n",
        "  a = int(input(\"enter a number: \"))\n",
        "  li.append(a)\n",
        "  print(li)\n",
        "  counter += 1"
      ],
      "metadata": {
        "id": "XF5CDs6t9Lwr"
      },
      "execution_count": null,
      "outputs": []
    },
    {
      "cell_type": "code",
      "source": [
        "#extend() method\n",
        "\n",
        "#list1.extend(iterable)\n",
        "\n",
        "l1 = [10,20,30]\n",
        "l2 = [40,50,60,70]\n",
        "l3 = [45,67,89]\n",
        "\n",
        "l1.extend(l2+l3)\n",
        "#l1.extend(l3)\n",
        "\n",
        "print(l1)\n"
      ],
      "metadata": {
        "colab": {
          "base_uri": "https://localhost:8080/"
        },
        "id": "LoKchnwm9S7n",
        "outputId": "6b92925c-1c38-4901-8856-d85b34ed91de"
      },
      "execution_count": null,
      "outputs": [
        {
          "output_type": "stream",
          "name": "stdout",
          "text": [
            "[10, 20, 30, 40, 50, 60, 70, 45, 67, 89]\n"
          ]
        }
      ]
    },
    {
      "cell_type": "code",
      "source": [
        "l1 = [10,20,30]\n",
        "l2 = [40,50,60]\n",
        "\n",
        "l1.extend([100,200,300,400])\n",
        "\n",
        "print(l1)"
      ],
      "metadata": {
        "colab": {
          "base_uri": "https://localhost:8080/"
        },
        "id": "qfaupxku93VT",
        "outputId": "2a2979ca-45fa-4f71-e176-9142474fcb5b"
      },
      "execution_count": null,
      "outputs": [
        {
          "output_type": "stream",
          "name": "stdout",
          "text": [
            "[10, 20, 30, 100, 200, 300, 400]\n"
          ]
        }
      ]
    },
    {
      "cell_type": "code",
      "source": [
        "#insert() method\n",
        "\n",
        "#list.insert(index,element)\n",
        "\n",
        "l1 = [10,20,30,40,50,60]\n",
        "\n",
        "l1.insert(0,1000)\n",
        "l1.insert(3,2000)\n",
        "\n",
        "print(l1)"
      ],
      "metadata": {
        "colab": {
          "base_uri": "https://localhost:8080/"
        },
        "id": "bwpmGtHY9-JL",
        "outputId": "a02d18fc-568e-466b-b56a-3ce6620e39bd"
      },
      "execution_count": null,
      "outputs": [
        {
          "output_type": "stream",
          "name": "stdout",
          "text": [
            "[1000, 10, 20, 2000, 30, 40, 50, 60]\n"
          ]
        }
      ]
    },
    {
      "cell_type": "code",
      "source": [
        "# deletion methods - remove() , pop(), clear(), Del()\n",
        "\n",
        "#remove(element) - Removes the first occurrence of a specified element from the list\n",
        "\n",
        "l1=[10,10,20,30,40]\n",
        "l1.remove(10) # remove is working on value\n",
        "print(l1)"
      ],
      "metadata": {
        "colab": {
          "base_uri": "https://localhost:8080/"
        },
        "id": "5hXFJOs6-p8N",
        "outputId": "f5b02343-3945-49b4-c586-a1c9ac764db7"
      },
      "execution_count": null,
      "outputs": [
        {
          "output_type": "stream",
          "name": "stdout",
          "text": [
            "[10, 20, 30, 40]\n"
          ]
        }
      ]
    },
    {
      "cell_type": "code",
      "source": [
        "#pop - pop the element at the end of the element or removes and returs the element at the specified index\n",
        "\n",
        "l1 = [10,20,30,40]\n",
        "res = l1.pop() # pop is working on index\n",
        "print(res)\n",
        "print(l1)\n",
        "\n",
        "res = l1.pop(2)\n",
        "print(res)\n",
        "print(l1)\n",
        "\n"
      ],
      "metadata": {
        "colab": {
          "base_uri": "https://localhost:8080/"
        },
        "id": "OmaWX5zK_Rd0",
        "outputId": "043e61a8-cf8d-4b49-9666-4f42eef7ad7a"
      },
      "execution_count": null,
      "outputs": [
        {
          "output_type": "stream",
          "name": "stdout",
          "text": [
            "40\n",
            "[10, 20, 30]\n",
            "30\n",
            "[10, 20]\n"
          ]
        }
      ]
    },
    {
      "cell_type": "code",
      "source": [
        "s2 = [10,20,30,40,50]\n",
        "removed_element = s2.pop()\n",
        "s2.pop(2)\n",
        "print (removed_element)\n",
        "print (s2)\n"
      ],
      "metadata": {
        "colab": {
          "base_uri": "https://localhost:8080/"
        },
        "id": "iduslIX1AcqC",
        "outputId": "554aae37-083e-40ff-dbaa-4c87bfb6cdc5"
      },
      "execution_count": null,
      "outputs": [
        {
          "output_type": "stream",
          "name": "stdout",
          "text": [
            "50\n",
            "[10, 20, 40]\n"
          ]
        }
      ]
    },
    {
      "cell_type": "code",
      "source": [
        "#clear() - removes all the elements from the list\n",
        "\n",
        "l1 = [10,20,30,40]\n",
        "print(l1)\n",
        "l1.clear()\n",
        "print(l1)"
      ],
      "metadata": {
        "colab": {
          "base_uri": "https://localhost:8080/"
        },
        "id": "LB1s4zDVA0V3",
        "outputId": "2836be83-8532-4256-87f3-74ab5a408739"
      },
      "execution_count": null,
      "outputs": [
        {
          "output_type": "stream",
          "name": "stdout",
          "text": [
            "[10, 20, 30, 40]\n",
            "[]\n"
          ]
        }
      ]
    },
    {
      "cell_type": "code",
      "source": [
        "#del() - delete the elements (index, slice or entire list variable)\n",
        "\n",
        "#pop works single element only\n",
        "l1 = [10,20,30,40]\n",
        "del l1[0:2]\n",
        "print(l1)\n",
        "\n"
      ],
      "metadata": {
        "id": "e3TpCLlYBNzi",
        "colab": {
          "base_uri": "https://localhost:8080/"
        },
        "outputId": "8fe1ba88-19b8-4ab8-deba-5818a17a9871"
      },
      "execution_count": null,
      "outputs": [
        {
          "output_type": "stream",
          "name": "stdout",
          "text": [
            "[30, 40]\n"
          ]
        }
      ]
    },
    {
      "cell_type": "code",
      "source": [
        "li =  [10,20,10,20,30,40] #arjith\n",
        "li2 = set(li)\n",
        "print(li2)"
      ],
      "metadata": {
        "colab": {
          "base_uri": "https://localhost:8080/"
        },
        "id": "qH1HbhT4DGPr",
        "outputId": "8df04e6e-589e-458e-ad92-49ea24d943c1"
      },
      "execution_count": null,
      "outputs": [
        {
          "output_type": "stream",
          "name": "stdout",
          "text": [
            "{40, 10, 20, 30}\n"
          ]
        }
      ]
    },
    {
      "cell_type": "code",
      "source": [
        "lst = [10,20,30,40,50,10,10,20,30]\n",
        "unique =[]\n",
        "for num in lst:\n",
        "    if num  not in unique:\n",
        "        unique.append(num)\n",
        "\n",
        "print(unique)"
      ],
      "metadata": {
        "colab": {
          "base_uri": "https://localhost:8080/"
        },
        "id": "hVQ0viclDUSO",
        "outputId": "7b9b0671-fb69-4f1c-87d4-eba3f69582de"
      },
      "execution_count": null,
      "outputs": [
        {
          "output_type": "stream",
          "name": "stdout",
          "text": [
            "[10, 20, 30, 40, 50]\n"
          ]
        }
      ]
    },
    {
      "cell_type": "code",
      "source": [
        "s=[10,20,10,30,20,45]\n",
        "lst1=[]\n",
        "for element in s:\n",
        "        if element not in lst1:\n",
        "            lst1.append(element)\n",
        "print(lst1)"
      ],
      "metadata": {
        "colab": {
          "base_uri": "https://localhost:8080/"
        },
        "id": "5RSu6uIsDfkI",
        "outputId": "a02e858a-06da-4677-e625-8fb66219ffe1"
      },
      "execution_count": null,
      "outputs": [
        {
          "output_type": "stream",
          "name": "stdout",
          "text": [
            "[10, 20, 30, 45]\n"
          ]
        }
      ]
    },
    {
      "cell_type": "code",
      "source": [
        "# program to remove duplicate elements\n",
        "\n",
        "l1 = [10,20,30,10,20,45]\n",
        "\n",
        "ulist = [] #unique list\n",
        "\n",
        "for i in l1:\n",
        "  if i not in ulist:\n",
        "    ulist.append(i)\n",
        "print(l1)\n",
        "print(ulist)"
      ],
      "metadata": {
        "colab": {
          "base_uri": "https://localhost:8080/"
        },
        "id": "31soy4A3Dwtf",
        "outputId": "68424278-511c-4d5d-c032-dc72966f8734"
      },
      "execution_count": null,
      "outputs": [
        {
          "output_type": "stream",
          "name": "stdout",
          "text": [
            "[10, 20, 30, 10, 20, 45]\n",
            "[10, 20, 30, 45]\n"
          ]
        }
      ]
    },
    {
      "cell_type": "code",
      "source": [
        "name: str = 1000\n",
        "\n",
        "print(name)\n",
        "\n",
        "print(type(name))\n",
        "#name = 10\n",
        "#name: int = 10\n",
        "print(name)\n",
        "print(type(name))\n",
        "\n",
        "print(__annotations__['name'])"
      ],
      "metadata": {
        "colab": {
          "base_uri": "https://localhost:8080/"
        },
        "id": "IKN3oxRQEZ7y",
        "outputId": "bb0548a2-e46b-4af4-eb5a-5b1d3908dc5f"
      },
      "execution_count": null,
      "outputs": [
        {
          "output_type": "stream",
          "name": "stdout",
          "text": [
            "1000\n",
            "<class 'int'>\n",
            "1000\n",
            "<class 'int'>\n",
            "<class 'str'>\n"
          ]
        }
      ]
    },
    {
      "cell_type": "markdown",
      "source": [
        "### ***********Machine Learning journey through Python- Phase-1***********\n",
        "# *****Day 7  Practice - 04/23/2025*****"
      ],
      "metadata": {
        "id": "k1TUUDRVI420"
      }
    },
    {
      "cell_type": "code",
      "source": [
        "#list() method - we can create empty list # convert to list from string , tuple and list\n",
        "\n",
        "l = []\n",
        "s = \"NTT Data\"\n",
        "\n",
        "l3= list(s) # we can pass any iterable ->  string, list, tuple\n",
        "print(l3)\n"
      ],
      "metadata": {
        "colab": {
          "base_uri": "https://localhost:8080/"
        },
        "id": "D_ukC-JiBymh",
        "outputId": "1d6f09d9-dfa5-4518-9369-70aee9c67bf9"
      },
      "execution_count": null,
      "outputs": [
        {
          "output_type": "stream",
          "name": "stdout",
          "text": [
            "['N', 'T', 'T', ' ', 'D', 'a', 't', 'a']\n"
          ]
        }
      ]
    },
    {
      "cell_type": "code",
      "source": [],
      "metadata": {
        "id": "kV3Anc9hDGCz"
      },
      "execution_count": null,
      "outputs": []
    },
    {
      "cell_type": "code",
      "source": [
        "#list() method\n",
        "\n",
        "l1 = list()\n",
        "print(l1)\n",
        "print (type(l1))\n"
      ],
      "metadata": {
        "colab": {
          "base_uri": "https://localhost:8080/"
        },
        "id": "9LdPr6i3CuBL",
        "outputId": "893151be-7faa-4653-c6df-6e1de6c9b5ef"
      },
      "execution_count": null,
      "outputs": [
        {
          "output_type": "stream",
          "name": "stdout",
          "text": [
            "[]\n",
            "<class 'list'>\n"
          ]
        }
      ]
    },
    {
      "cell_type": "code",
      "source": [
        "s = \"NTT DATA\"\n",
        "l2 = list(s)\n",
        "print(l2)"
      ],
      "metadata": {
        "colab": {
          "base_uri": "https://localhost:8080/"
        },
        "id": "93XTMoS-DUfW",
        "outputId": "fbcc3c65-75d2-4435-e908-4a94234ea14e"
      },
      "execution_count": null,
      "outputs": [
        {
          "output_type": "stream",
          "name": "stdout",
          "text": [
            "['N', 'T', 'T', ' ', 'D', 'A', 'T', 'A']\n"
          ]
        }
      ]
    },
    {
      "cell_type": "code",
      "source": [
        "l3 = list(range(1,10))\n",
        "print(l3)\n"
      ],
      "metadata": {
        "colab": {
          "base_uri": "https://localhost:8080/"
        },
        "id": "Q0Cgy4RoDcVb",
        "outputId": "88ccf961-43c3-415b-cdb9-83f78f8c352e"
      },
      "execution_count": null,
      "outputs": [
        {
          "output_type": "stream",
          "name": "stdout",
          "text": [
            "[1, 2, 3, 4, 5, 6, 7, 8, 9]\n"
          ]
        }
      ]
    },
    {
      "cell_type": "code",
      "source": [
        "# l1 = [2,3,4,4,4,2,6,7,8,6]\n",
        "#output 2 3 4 6 7 8\n",
        "#output 2 2 3 2 1 1\n",
        "#sol:\n",
        "\n",
        "l1 = [1,1,1,2,2,3,3,3,3,3,3,4,4,5,6]\n",
        "uele = []\n",
        "count = []\n",
        "\n",
        "for i in l1:\n",
        "  if i not in uele:\n",
        "    uele.append(i)\n",
        "    count.append(1)\n",
        "  else:\n",
        "    index = uele.index(i)\n",
        "    count[index] = count[index] + 1\n",
        "\n",
        "print(uele)\n",
        "print(count)"
      ],
      "metadata": {
        "colab": {
          "base_uri": "https://localhost:8080/"
        },
        "id": "GpdZKFv4D7hv",
        "outputId": "115e7605-e789-446f-be65-801472ca5ca2"
      },
      "execution_count": null,
      "outputs": [
        {
          "output_type": "stream",
          "name": "stdout",
          "text": [
            "[1, 2, 3, 4, 5, 6]\n",
            "[3, 2, 6, 2, 1, 1]\n"
          ]
        }
      ]
    },
    {
      "cell_type": "code",
      "source": [
        "l1 = [2,3,4,4,4,2,6,7,8,6]\n",
        "l2 = []\n",
        "l3 = []\n",
        "for num in l1:\n",
        "  if num not in l2:\n",
        "    l2.append(num)\n",
        "    l3.append(l1.count(num))\n",
        "\n",
        "print(l2)\n",
        "print(l3)\n"
      ],
      "metadata": {
        "colab": {
          "base_uri": "https://localhost:8080/"
        },
        "id": "8AUDoLyiEh12",
        "outputId": "cdde280e-0c00-4d17-9313-be7345fbf91d"
      },
      "execution_count": null,
      "outputs": [
        {
          "output_type": "stream",
          "name": "stdout",
          "text": [
            "[2, 3, 4, 6, 7, 8]\n",
            "[2, 1, 3, 2, 1, 1]\n"
          ]
        }
      ]
    },
    {
      "cell_type": "code",
      "source": [
        "#print the occurance of the elements\n",
        "l1 = [1,1,1,2,2,3,3,3,3,3,3,4,4,5,6]\n",
        "l2 = []\n",
        "l3 = []\n",
        "for num in l1:\n",
        "  if num not in l2:\n",
        "    l2.append(num)\n",
        "    l3.append(l1.count(num))\n",
        "\n",
        "print(l2)\n",
        "print(l3)"
      ],
      "metadata": {
        "colab": {
          "base_uri": "https://localhost:8080/"
        },
        "id": "_pUwMzyDHTzI",
        "outputId": "b133fa41-0cf4-47f8-d67f-001c9e79fec8"
      },
      "execution_count": null,
      "outputs": [
        {
          "output_type": "stream",
          "name": "stdout",
          "text": [
            "[1, 2, 3, 4, 5, 6]\n",
            "[3, 2, 6, 2, 1, 1]\n"
          ]
        }
      ]
    },
    {
      "cell_type": "code",
      "source": [
        "#print the occurance of the elements\n",
        "l1 = [1,1,1,2,2,3,3,3,3,3,3,4,4,5,6]\n",
        "uniqList = []\n",
        "countList = []\n",
        "\n",
        "for i in l1:\n",
        "  if i not in uniqList:\n",
        "    uniqList.append(i)\n",
        "    countList.append(1)\n",
        "  elif i in uniqList:\n",
        "    index = uniqList.index(i)\n",
        "    count = countList[index] + 1\n",
        "    del countList[index]\n",
        "    countList.insert(index, count)\n",
        "\n",
        "print(uniqList)\n",
        "print(countList)"
      ],
      "metadata": {
        "colab": {
          "base_uri": "https://localhost:8080/"
        },
        "id": "vLZ_vRpFHBxS",
        "outputId": "c3ba2e6c-4988-4eef-9275-c73c15674bfd"
      },
      "execution_count": null,
      "outputs": [
        {
          "output_type": "stream",
          "name": "stdout",
          "text": [
            "[1, 2, 3, 4, 5, 6]\n",
            "[3, 2, 6, 2, 1, 1]\n"
          ]
        }
      ]
    },
    {
      "cell_type": "code",
      "source": [
        "l1 = [2,3,3,4,4,4,2,6,7,8,6]\n",
        "uniqList = []\n",
        "countList = []\n",
        "\n",
        "for i in l1:\n",
        "  if i not in uniqList:\n",
        "    uniqList.append(i)\n",
        "    countList.append(1)\n",
        "  elif i in uniqList:\n",
        "    index = uniqList.index(i)\n",
        "    count = countList[index] + 1\n",
        "    del countList[index]\n",
        "    countList.insert(index, count)\n",
        "\n",
        "print(uniqList)\n",
        "print(countList)"
      ],
      "metadata": {
        "colab": {
          "base_uri": "https://localhost:8080/"
        },
        "id": "KIg8_kF0GbE_",
        "outputId": "c3393a56-ced1-456c-e09b-c396a1584708"
      },
      "execution_count": null,
      "outputs": [
        {
          "output_type": "stream",
          "name": "stdout",
          "text": [
            "[2, 3, 4, 6, 7, 8]\n",
            "[2, 2, 3, 2, 1, 1]\n"
          ]
        }
      ]
    },
    {
      "cell_type": "code",
      "source": [
        "# tuples\n",
        "\n",
        "t1 = (1,2,3,4,3.1,[4,5,6],(7,7,8))\n",
        "print(t1)\n",
        "print(type(t1))\n",
        "\n",
        "\n"
      ],
      "metadata": {
        "colab": {
          "base_uri": "https://localhost:8080/"
        },
        "id": "YW5rvJzlIAgZ",
        "outputId": "11f8cb8b-1243-4c21-88cc-0327d3330a91"
      },
      "execution_count": null,
      "outputs": [
        {
          "output_type": "stream",
          "name": "stdout",
          "text": [
            "(1, 2, 3, 4, 3.1, [4, 5, 6], (7, 7, 8))\n",
            "<class 'tuple'>\n"
          ]
        }
      ]
    },
    {
      "cell_type": "code",
      "source": [
        "print(\"hi\")"
      ],
      "metadata": {
        "colab": {
          "base_uri": "https://localhost:8080/"
        },
        "id": "GQDzHVP7L5jB",
        "outputId": "5843fbda-61eb-46c0-b379-17acd611286a"
      },
      "execution_count": null,
      "outputs": [
        {
          "output_type": "stream",
          "name": "stdout",
          "text": [
            "hi\n"
          ]
        }
      ]
    },
    {
      "cell_type": "code",
      "source": [
        "#tuple() method\n",
        "\n",
        "s= \"Ntt Data\"\n",
        "t2 = tuple(s) # we can't add remove anything\n",
        "print(t2)\n",
        "\n",
        "l1 = [10,20,30]\n",
        "\n",
        "t3 = tuple(l1) # list converted to tuple\n",
        "print(t3)\n",
        "\n",
        "l5 = list(t3) # tuple converted to list\n",
        "print(l5)\n",
        "\n",
        "l5.append(40)\n",
        "print(l5)\n",
        "\n"
      ],
      "metadata": {
        "colab": {
          "base_uri": "https://localhost:8080/"
        },
        "id": "tENG-FVwJfM9",
        "outputId": "5b2a18be-58c2-4a67-9319-ec1acc0167f3"
      },
      "execution_count": null,
      "outputs": [
        {
          "output_type": "stream",
          "name": "stdout",
          "text": [
            "('N', 't', 't', ' ', 'D', 'a', 't', 'a')\n",
            "(10, 20, 30)\n",
            "[10, 20, 30]\n",
            "[10, 20, 30, 40]\n"
          ]
        }
      ]
    },
    {
      "cell_type": "code",
      "source": [
        "#tuple with a single element\n",
        "\n",
        "t5 = (6) #single it will treat as integer, since its a expression same like (2+4), (3-2), (6)\n",
        "print(t5)\n",
        "print(type(t5))\n",
        "\n"
      ],
      "metadata": {
        "colab": {
          "base_uri": "https://localhost:8080/"
        },
        "id": "5OorrmBIKQPY",
        "outputId": "7d5714ed-ab8e-42a2-8b35-894bf5d6da08"
      },
      "execution_count": null,
      "outputs": [
        {
          "output_type": "stream",
          "name": "stdout",
          "text": [
            "6\n",
            "<class 'int'>\n"
          ]
        }
      ]
    },
    {
      "cell_type": "code",
      "source": [
        "#tuple with a single element\n",
        "\n",
        "t5 = (6,) #so need to use , after the single digit\n",
        "print(t5)\n",
        "print(type(t5))"
      ],
      "metadata": {
        "colab": {
          "base_uri": "https://localhost:8080/"
        },
        "id": "ddKpexGrLGwc",
        "outputId": "858637e0-e7ac-44cc-d1a0-be4ceab714d4"
      },
      "execution_count": null,
      "outputs": [
        {
          "output_type": "stream",
          "name": "stdout",
          "text": [
            "(6,)\n",
            "<class 'tuple'>\n"
          ]
        }
      ]
    },
    {
      "cell_type": "code",
      "source": [
        "#tuple concatenation\n",
        "t1 = (10,20,30)\n",
        "t2 = (40,50,60)\n",
        "t3 = t1+t2\n",
        "print(t3)\n",
        "print(type(t3))\n"
      ],
      "metadata": {
        "colab": {
          "base_uri": "https://localhost:8080/"
        },
        "id": "WpYuHOkyLZl3",
        "outputId": "3bf2e109-9bff-4c9a-d53a-ca65b5dfcf88"
      },
      "execution_count": null,
      "outputs": [
        {
          "output_type": "stream",
          "name": "stdout",
          "text": [
            "(10, 20, 30, 40, 50, 60)\n",
            "<class 'tuple'>\n"
          ]
        }
      ]
    },
    {
      "cell_type": "code",
      "source": [
        "t1 = (10,20,30)\n",
        "\n",
        "t2 = t1*3\n",
        "print(t2)\n",
        "print(type(t2))\n"
      ],
      "metadata": {
        "colab": {
          "base_uri": "https://localhost:8080/"
        },
        "id": "Mzn6L3zfMJ3w",
        "outputId": "8da91533-a16a-490b-c96d-42ac8c5833e7"
      },
      "execution_count": null,
      "outputs": [
        {
          "output_type": "stream",
          "name": "stdout",
          "text": [
            "(10, 20, 30, 10, 20, 30, 10, 20, 30)\n",
            "<class 'tuple'>\n"
          ]
        }
      ]
    },
    {
      "cell_type": "code",
      "source": [
        "#iterating tuple\n",
        "t1 = (10,20,30)\n",
        "\n",
        "for i in t1:\n",
        "  print(i)"
      ],
      "metadata": {
        "colab": {
          "base_uri": "https://localhost:8080/"
        },
        "id": "UaKbORPWMV9V",
        "outputId": "6b722564-4736-443c-a340-3f20f945e2ff"
      },
      "execution_count": null,
      "outputs": [
        {
          "output_type": "stream",
          "name": "stdout",
          "text": [
            "10\n",
            "20\n",
            "30\n"
          ]
        }
      ]
    },
    {
      "cell_type": "code",
      "source": [
        "t1 = (1,2,3,4,3.1,[4,5,6],(7,7,8))\n",
        "print(t1[4:])"
      ],
      "metadata": {
        "colab": {
          "base_uri": "https://localhost:8080/"
        },
        "id": "cKzxT9igMesy",
        "outputId": "3d5230d3-f822-4aab-fcab-88a23773daa5"
      },
      "execution_count": null,
      "outputs": [
        {
          "output_type": "stream",
          "name": "stdout",
          "text": [
            "(3.1, [4, 5, 6], (7, 7, 8))\n"
          ]
        }
      ]
    },
    {
      "cell_type": "code",
      "source": [
        "# Dictionary\n",
        "\n",
        "d1 = {\"name\":\"Ram\",\"age\":30, \"city\":\"Blr\"}\n",
        "print(d1)\n",
        "print(type(d1))\n",
        "\n",
        "print(d1.keys()) # it will fetch all the keys from dictionary\n",
        "print(d1.values()) # it will fetch values from dictionary\n",
        "\n",
        "print(d1.items()) # returns items\n"
      ],
      "metadata": {
        "colab": {
          "base_uri": "https://localhost:8080/"
        },
        "id": "yBT8WhqZM2oG",
        "outputId": "dcb355b9-cb8f-4ddb-8a72-128d2e93de37"
      },
      "execution_count": null,
      "outputs": [
        {
          "output_type": "stream",
          "name": "stdout",
          "text": [
            "{'name': 'Ram', 'age': 30, 'city': 'Blr'}\n",
            "<class 'dict'>\n",
            "dict_keys(['name', 'age', 'city'])\n",
            "dict_values(['Ram', 30, 'Blr'])\n",
            "dict_items([('name', 'Ram'), ('age', 30), ('city', 'Blr')])\n"
          ]
        }
      ]
    }
  ]
}