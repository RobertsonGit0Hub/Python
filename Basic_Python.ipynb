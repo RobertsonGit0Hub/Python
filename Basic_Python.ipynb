{
  "nbformat": 4,
  "nbformat_minor": 0,
  "metadata": {
    "colab": {
      "provenance": [],
      "name": "Basic Python.ipynb"
    },
    "kernelspec": {
      "name": "python3",
      "display_name": "Python 3"
    },
    "language_info": {
      "name": "python"
    }
  },
  "cells": [
    {
      "cell_type": "code",
      "execution_count": null,
      "metadata": {
        "colab": {
          "base_uri": "https://localhost:8080/"
        },
        "id": "HpmbKqI7jltH",
        "outputId": "0ec1bf68-5f68-4ec7-f746-ea081ec8cab5"
      },
      "outputs": [
        {
          "output_type": "stream",
          "name": "stdout",
          "text": [
            "hello world\n"
          ]
        }
      ],
      "source": [
        "print(\"hello mm\")"
      ]
    },
    {
      "cell_type": "code",
      "source": [
        "# Day 3\n",
        "#creating s simple list\n",
        "l=[10,20.3,\"Ntt\",3+4j]\n",
        "print (l)\n",
        "print(type(l))\n",
        "print (l[-2])\n",
        "\n"
      ],
      "metadata": {
        "colab": {
          "base_uri": "https://localhost:8080/"
        },
        "id": "uJl5DeSfTKZZ",
        "outputId": "a520af69-18ea-4773-f1ef-54967da90bc2"
      },
      "execution_count": 11,
      "outputs": [
        {
          "output_type": "stream",
          "name": "stdout",
          "text": [
            "[10, 20.3, 'Ntt', (3+4j)]\n",
            "<class 'list'>\n",
            "Ntt\n"
          ]
        }
      ]
    },
    {
      "cell_type": "code",
      "source": [
        "l={10:\"Arjith\",20:\"Muni\",30:\"Rovbert\"}\n",
        "print (type(l))\n"
      ],
      "metadata": {
        "colab": {
          "base_uri": "https://localhost:8080/"
        },
        "id": "-d8b2_yr5W2g",
        "outputId": "ba9f7abe-64d3-40e9-92a8-4a7d43b04c4c"
      },
      "execution_count": 16,
      "outputs": [
        {
          "output_type": "stream",
          "name": "stdout",
          "text": [
            "<class 'dict'>\n"
          ]
        }
      ]
    },
    {
      "cell_type": "code",
      "source": [
        "l={100:\"Arjith\",20:\"Muni\",333:\"Robert\"}\n",
        "print (l[333])"
      ],
      "metadata": {
        "colab": {
          "base_uri": "https://localhost:8080/"
        },
        "id": "raP8IFlJ55lw",
        "outputId": "0fd21572-647a-41a1-bf23-9fa314a62bdb"
      },
      "execution_count": 18,
      "outputs": [
        {
          "output_type": "stream",
          "name": "stdout",
          "text": [
            "Robert\n"
          ]
        }
      ]
    },
    {
      "cell_type": "code",
      "source": [
        "s = {12,13,14,14,\"Hello\",\"Hello\"}\n",
        "\n",
        "print(s[0])\n"
      ],
      "metadata": {
        "colab": {
          "base_uri": "https://localhost:8080/",
          "height": 176
        },
        "id": "fuCKuvtG6WuI",
        "outputId": "1605a84a-8646-4d4e-d99f-4390d2fffcd2"
      },
      "execution_count": 33,
      "outputs": [
        {
          "output_type": "error",
          "ename": "TypeError",
          "evalue": "'set' object is not subscriptable",
          "traceback": [
            "\u001b[0;31m---------------------------------------------------------------------------\u001b[0m",
            "\u001b[0;31mTypeError\u001b[0m                                 Traceback (most recent call last)",
            "\u001b[0;32m<ipython-input-33-68a7ed448a70>\u001b[0m in \u001b[0;36m<cell line: 0>\u001b[0;34m()\u001b[0m\n\u001b[1;32m      1\u001b[0m \u001b[0ms\u001b[0m \u001b[0;34m=\u001b[0m \u001b[0;34m{\u001b[0m\u001b[0;36m12\u001b[0m\u001b[0;34m,\u001b[0m\u001b[0;36m13\u001b[0m\u001b[0;34m,\u001b[0m\u001b[0;36m14\u001b[0m\u001b[0;34m,\u001b[0m\u001b[0;36m14\u001b[0m\u001b[0;34m,\u001b[0m\u001b[0;34m\"Hello\"\u001b[0m\u001b[0;34m,\u001b[0m\u001b[0;34m\"Hello\"\u001b[0m\u001b[0;34m}\u001b[0m\u001b[0;34m\u001b[0m\u001b[0;34m\u001b[0m\u001b[0m\n\u001b[1;32m      2\u001b[0m \u001b[0;34m\u001b[0m\u001b[0m\n\u001b[0;32m----> 3\u001b[0;31m \u001b[0mprint\u001b[0m\u001b[0;34m(\u001b[0m\u001b[0ms\u001b[0m\u001b[0;34m[\u001b[0m\u001b[0;36m0\u001b[0m\u001b[0;34m]\u001b[0m\u001b[0;34m)\u001b[0m\u001b[0;34m\u001b[0m\u001b[0;34m\u001b[0m\u001b[0m\n\u001b[0m",
            "\u001b[0;31mTypeError\u001b[0m: 'set' object is not subscriptable"
          ]
        }
      ]
    },
    {
      "cell_type": "code",
      "source": [
        "s = {12, 13, 14, 14, \"Hello\", \"Hello\"}\n",
        "\n",
        "for element in s:\n",
        "    print(element)"
      ],
      "metadata": {
        "colab": {
          "base_uri": "https://localhost:8080/"
        },
        "id": "ERyEdD3f7VKC",
        "outputId": "fe91db04-6ed0-4a0c-cbe4-8521e0b5cda0"
      },
      "execution_count": 34,
      "outputs": [
        {
          "output_type": "stream",
          "name": "stdout",
          "text": [
            "12\n",
            "13\n",
            "14\n",
            "Hello\n"
          ]
        }
      ]
    },
    {
      "cell_type": "code",
      "source": [
        "s = {12, 13, 14, \"Hello\", \"hello\"}\n",
        "\n",
        "s_list = list(s)\n",
        "print(s_list[4])  # Access the first element of the list"
      ],
      "metadata": {
        "colab": {
          "base_uri": "https://localhost:8080/"
        },
        "id": "zUQxzsWV7Ylz",
        "outputId": "02d4a3ca-a402-403b-af55-b5c84078f588"
      },
      "execution_count": 41,
      "outputs": [
        {
          "output_type": "stream",
          "name": "stdout",
          "text": [
            "14\n"
          ]
        }
      ]
    },
    {
      "cell_type": "code",
      "source": [
        "#isinstance\n",
        "a=10\n",
        "print (isinstance(a,int))\n"
      ],
      "metadata": {
        "colab": {
          "base_uri": "https://localhost:8080/"
        },
        "id": "_5wHueRsT9e7",
        "outputId": "3e348658-00e0-466c-8dfe-22913d8e5002"
      },
      "execution_count": 10,
      "outputs": [
        {
          "output_type": "stream",
          "name": "stdout",
          "text": [
            "True\n"
          ]
        }
      ]
    },
    {
      "cell_type": "code",
      "source": [
        "#variable annotations\n",
        "name: str = \"NTT\"\n",
        "print(name)\n",
        "print(__annotations__['name'])"
      ],
      "metadata": {
        "colab": {
          "base_uri": "https://localhost:8080/"
        },
        "id": "xQHytdgQUK9_",
        "outputId": "2e12aa6c-6ccf-4ed4-83f9-d18b6723f4f4"
      },
      "execution_count": null,
      "outputs": [
        {
          "output_type": "stream",
          "name": "stdout",
          "text": [
            "NTT\n",
            "<class 'str'>\n"
          ]
        }
      ]
    },
    {
      "cell_type": "code",
      "source": [
        "name: str = \"NTT\"\n",
        "print(name)\n",
        "print(type(name))\n",
        "print(__annotations__['name'])\n"
      ],
      "metadata": {
        "id": "k_9V-vBIUxKK"
      },
      "execution_count": null,
      "outputs": []
    },
    {
      "cell_type": "code",
      "source": [
        "name: int = 10\n",
        "print(name)\n",
        "print(__annotations__['name'])"
      ],
      "metadata": {
        "colab": {
          "base_uri": "https://localhost:8080/"
        },
        "id": "HaaltRd32J1d",
        "outputId": "eb403c4e-bd66-4584-f7fb-13a9555635d3"
      },
      "execution_count": 1,
      "outputs": [
        {
          "output_type": "stream",
          "name": "stdout",
          "text": [
            "10\n",
            "<class 'int'>\n"
          ]
        }
      ]
    },
    {
      "cell_type": "code",
      "source": [],
      "metadata": {
        "id": "pNjjTUeXWcwI"
      },
      "execution_count": null,
      "outputs": []
    },
    {
      "cell_type": "code",
      "source": [
        "aaa=10\n",
        "print(aaa)\n",
        "print(type(aaa))\n",
        "\n",
        "print(__annotations__['aaa'])\n"
      ],
      "metadata": {
        "colab": {
          "base_uri": "https://localhost:8080/",
          "height": 211
        },
        "id": "7c6ghR13Vzrp",
        "outputId": "db6853c5-5919-4877-9437-94b06a24acbf"
      },
      "execution_count": null,
      "outputs": [
        {
          "output_type": "stream",
          "name": "stdout",
          "text": [
            "10\n",
            "<class 'int'>\n"
          ]
        },
        {
          "output_type": "error",
          "ename": "NameError",
          "evalue": "name '__annotations__' is not defined",
          "traceback": [
            "\u001b[0;31m---------------------------------------------------------------------------\u001b[0m",
            "\u001b[0;31mNameError\u001b[0m                                 Traceback (most recent call last)",
            "\u001b[0;32m<ipython-input-1-34cce9b43018>\u001b[0m in \u001b[0;36m<cell line: 0>\u001b[0;34m()\u001b[0m\n\u001b[1;32m      3\u001b[0m \u001b[0mprint\u001b[0m\u001b[0;34m(\u001b[0m\u001b[0mtype\u001b[0m\u001b[0;34m(\u001b[0m\u001b[0maaa\u001b[0m\u001b[0;34m)\u001b[0m\u001b[0;34m)\u001b[0m\u001b[0;34m\u001b[0m\u001b[0;34m\u001b[0m\u001b[0m\n\u001b[1;32m      4\u001b[0m \u001b[0;34m\u001b[0m\u001b[0m\n\u001b[0;32m----> 5\u001b[0;31m \u001b[0mprint\u001b[0m\u001b[0;34m(\u001b[0m\u001b[0m__annotations__\u001b[0m\u001b[0;34m[\u001b[0m\u001b[0;34m'aaa'\u001b[0m\u001b[0;34m]\u001b[0m\u001b[0;34m)\u001b[0m\u001b[0;34m\u001b[0m\u001b[0;34m\u001b[0m\u001b[0m\n\u001b[0m",
            "\u001b[0;31mNameError\u001b[0m: name '__annotations__' is not defined"
          ]
        }
      ]
    },
    {
      "cell_type": "code",
      "source": [
        "# variable annotation\n",
        "\n",
        "aa: int = 10\n",
        "print(aa)\n",
        "\n",
        "print(__annotations__['aa'])\n",
        "print(type(aa))\n"
      ],
      "metadata": {
        "colab": {
          "base_uri": "https://localhost:8080/"
        },
        "id": "hlDFRsG0Wev7",
        "outputId": "02dbf3b6-738f-4036-f103-2451d17e8ebb"
      },
      "execution_count": null,
      "outputs": [
        {
          "output_type": "stream",
          "name": "stdout",
          "text": [
            "10\n",
            "<class 'int'>\n",
            "<class 'int'>\n"
          ]
        }
      ]
    },
    {
      "cell_type": "code",
      "source": [
        "#tuple - unable to chnage the content at run time t = (1,2,3..) , but list we can change it L = [1,2,3,4,...]\n"
      ],
      "metadata": {
        "id": "-zs2BtDYYOX0"
      },
      "execution_count": null,
      "outputs": []
    },
    {
      "cell_type": "code",
      "source": [
        "#dictionary  d = {a:1, b:2, c:3} - a, b, c are index and 1 2 3 are value"
      ],
      "metadata": {
        "id": "7eZYgoGnZkGa"
      },
      "execution_count": null,
      "outputs": []
    },
    {
      "cell_type": "code",
      "source": [
        "print(18//4)"
      ],
      "metadata": {
        "colab": {
          "base_uri": "https://localhost:8080/"
        },
        "id": "vVrHlCjgfrpB",
        "outputId": "1ac860a7-85c4-4d22-ab3a-251fd6e195e7"
      },
      "execution_count": null,
      "outputs": [
        {
          "output_type": "stream",
          "name": "stdout",
          "text": [
            "4\n"
          ]
        }
      ]
    },
    {
      "cell_type": "code",
      "source": [
        "print(18%4)"
      ],
      "metadata": {
        "colab": {
          "base_uri": "https://localhost:8080/"
        },
        "id": "ez0Q5SYLfwVB",
        "outputId": "5675b57b-ff1d-431b-e457-c78ba59c486b"
      },
      "execution_count": null,
      "outputs": [
        {
          "output_type": "stream",
          "name": "stdout",
          "text": [
            "2\n"
          ]
        }
      ]
    },
    {
      "cell_type": "code",
      "source": [
        "print((18.0//4))"
      ],
      "metadata": {
        "colab": {
          "base_uri": "https://localhost:8080/"
        },
        "id": "9xQ4YNdEf0WQ",
        "outputId": "c98aceef-7719-4fcf-f8f3-d4570b2b5379"
      },
      "execution_count": null,
      "outputs": [
        {
          "output_type": "stream",
          "name": "stdout",
          "text": [
            "4.0\n"
          ]
        }
      ]
    },
    {
      "cell_type": "code",
      "source": [
        "print(\"\"\"  working on multiline\n",
        "  sample \"\"\")"
      ],
      "metadata": {
        "colab": {
          "base_uri": "https://localhost:8080/"
        },
        "id": "pGTzI4EIf4L5",
        "outputId": "135722f1-0efe-42f4-908b-cb7a85673021"
      },
      "execution_count": null,
      "outputs": [
        {
          "output_type": "stream",
          "name": "stdout",
          "text": [
            "  working on multiline\n",
            "  sample \n"
          ]
        }
      ]
    },
    {
      "cell_type": "code",
      "source": [
        "#1-1 = 0 , 2-1 = 1, 3-1 = 2 (last param)\n",
        "Name = \"Hello world\"\n",
        "print(Name[0])\n",
        "print(Name[-8])\n",
        "\n",
        "print(Name[0:6:3])"
      ],
      "metadata": {
        "colab": {
          "base_uri": "https://localhost:8080/"
        },
        "id": "FCzAbliMg0ld",
        "outputId": "8f789eb1-0008-435b-9acb-573208c75d4d"
      },
      "execution_count": null,
      "outputs": [
        {
          "output_type": "stream",
          "name": "stdout",
          "text": [
            "H\n",
            "l\n",
            "Hl\n"
          ]
        }
      ]
    },
    {
      "cell_type": "code",
      "source": [
        "#slicing (its like substring)\n",
        "Name = \"Bangalore\"\n",
        "\n",
        "\n",
        "print(Name[ :5:1])\n",
        "print(Name[2: :1])\n",
        "print(Name[0:6: ])\n",
        "print(Name[ : : ])\n",
        "print(Name[2:7:1])\n",
        "\n",
        "# s[Start:Stop:Step]\n",
        "# if not given for start it will consider as 0, 2 paramater will take as entire , if 3rd is emty it will take 0"
      ],
      "metadata": {
        "colab": {
          "base_uri": "https://localhost:8080/"
        },
        "id": "qmk0v9VFjQRQ",
        "outputId": "56246301-0488-4292-acb9-06f713c50595"
      },
      "execution_count": null,
      "outputs": [
        {
          "output_type": "stream",
          "name": "stdout",
          "text": [
            "Banga\n",
            "ngalore\n",
            "Bangal\n",
            "Bangalore\n",
            "ngalo\n"
          ]
        }
      ]
    },
    {
      "cell_type": "code",
      "source": [],
      "metadata": {
        "id": "C3_ScG4nklJt"
      },
      "execution_count": null,
      "outputs": []
    }
  ]
}